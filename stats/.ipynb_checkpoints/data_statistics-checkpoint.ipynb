{
 "cells": [
  {
   "cell_type": "code",
   "execution_count": 1,
   "id": "b4af03e3",
   "metadata": {},
   "outputs": [
    {
     "name": "stderr",
     "output_type": "stream",
     "text": [
      "/Users/johnoconnell/opt/anaconda3/lib/python3.9/site-packages/scipy/__init__.py:146: UserWarning: A NumPy version >=1.16.5 and <1.23.0 is required for this version of SciPy (detected version 1.24.2\n",
      "  warnings.warn(f\"A NumPy version >={np_minversion} and <{np_maxversion}\"\n"
     ]
    }
   ],
   "source": [
    "from matplotlib import pyplot as plt\n",
    "import seaborn as sb\n",
    "import matplotlib.pyplot as plt\n",
    "import pandas as pd\n",
    "import numpy as np\n",
    "import warnings "
   ]
  },
  {
   "cell_type": "code",
   "execution_count": 2,
   "id": "5c7e0efa",
   "metadata": {},
   "outputs": [],
   "source": [
    "stats_2010 = pd.read_csv('stats_2010.csv')\n",
    "stats_2011 = pd.read_csv('stats_2011.csv')\n",
    "stats_2012 = pd.read_csv('stats_2012.csv')\n",
    "stats_2013 = pd.read_csv('stats_2013.csv')\n",
    "stats_2014 = pd.read_csv('stats_2014.csv')\n",
    "stats_2015 = pd.read_csv('stats_2015.csv')\n",
    "stats_2016 = pd.read_csv('stats_2016.csv')\n",
    "stats_2017 = pd.read_csv('stats_2017.csv')\n",
    "stats_2018 = pd.read_csv('stats_2018.csv')\n",
    "stats_2019 = pd.read_csv('stats_2019.csv')\n",
    "stats_2020 = pd.read_csv('stats_2020.csv')\n",
    "stats_2021 = pd.read_csv('stats_2021.csv')\n",
    "stats_2022 = pd.read_csv('stats_2022.csv')"
   ]
  },
  {
   "cell_type": "code",
   "execution_count": 3,
   "id": "843d7436",
   "metadata": {},
   "outputs": [
    {
     "name": "stderr",
     "output_type": "stream",
     "text": [
      "/var/folders/jw/95zp9jr92y72x0m_9wppzqmw0000gn/T/ipykernel_21238/1344768360.py:1: FutureWarning: The frame.append method is deprecated and will be removed from pandas in a future version. Use pandas.concat instead.\n",
      "  combined = stats_2010.append(stats_2011)\n"
     ]
    }
   ],
   "source": [
    "combined = stats_2010.append(stats_2011)"
   ]
  },
  {
   "cell_type": "code",
   "execution_count": 4,
   "id": "4d06c46e",
   "metadata": {},
   "outputs": [
    {
     "name": "stdout",
     "output_type": "stream",
     "text": [
      "    Unnamed: 0 team_abbr  points_for   yards   plays  yards_per_plbay  \\\n",
      "0            0       crd       289.0  4309.0   931.0              4.6   \n",
      "1            1       atl       414.0  5458.0  1097.0              5.0   \n",
      "2            2       rav       357.0  5166.0  1018.0              5.1   \n",
      "3            3       buf       283.0  4878.0   954.0              5.1   \n",
      "4            4       car       196.0  4135.0   962.0              4.3   \n",
      "..         ...       ...         ...     ...     ...              ...   \n",
      "27          27       sfo       380.0  4974.0   993.0              5.0   \n",
      "28          28       sea       321.0  4861.0  1003.0              4.8   \n",
      "29          29       tam       287.0  5108.0   966.0              5.3   \n",
      "30          30       oti       325.0  5361.0   984.0              5.4   \n",
      "31          31       was       288.0  5387.0  1032.0              5.2   \n",
      "\n",
      "    turnovers  fumbles_lost  first_downs  completions  ...  \\\n",
      "0        35.0          16.0        241.0        285.0  ...   \n",
      "1        17.0           8.0        353.0        361.0  ...   \n",
      "2        20.0          10.0        303.0        308.0  ...   \n",
      "3        39.0          18.0        263.0        296.0  ...   \n",
      "4        37.0          16.0        225.0        256.0  ...   \n",
      "..        ...           ...          ...          ...  ...   \n",
      "27       10.0           5.0        282.0        277.0  ...   \n",
      "28       23.0           9.0        265.0        299.0  ...   \n",
      "29       40.0          16.0        277.0        365.0  ...   \n",
      "30       22.0           8.0        281.0        353.0  ...   \n",
      "31       35.0          11.0        312.0        346.0  ...   \n",
      "\n",
      "    red_zone_td_percentage  o_3D_attempts  o_3D_conversions  \\\n",
      "0                     43.2          233.0              87.0   \n",
      "1                     60.3          201.0              79.0   \n",
      "2                     49.0          229.0              87.0   \n",
      "3                     51.4          227.0              98.0   \n",
      "4                     30.3          213.0              81.0   \n",
      "..                     ...            ...               ...   \n",
      "27                    40.7          216.0              76.0   \n",
      "28                    47.8          221.0              77.0   \n",
      "29                    50.0          185.0              73.0   \n",
      "30                    59.5          236.0              96.0   \n",
      "31                    41.2          206.0              77.0   \n",
      "\n",
      "    o_3D_conversion_percentage  o_4D_attempts  o_4D_conversions  \\\n",
      "0                         37.3           17.0               9.0   \n",
      "1                         39.3           17.0               9.0   \n",
      "2                         38.0           12.0               6.0   \n",
      "3                         43.2           10.0               7.0   \n",
      "4                         38.0            9.0               4.0   \n",
      "..                         ...            ...               ...   \n",
      "27                        35.2           17.0               7.0   \n",
      "28                        34.8           11.0               7.0   \n",
      "29                        39.5           13.0               9.0   \n",
      "30                        40.7           20.0               8.0   \n",
      "31                        37.4           10.0               4.0   \n",
      "\n",
      "    o_4D_conversion_percentage  o_red_zone_attempts  o_red_zone_tds  \\\n",
      "0                         52.9                 69.0            27.0   \n",
      "1                         52.9                 42.0            23.0   \n",
      "2                         50.0                 40.0            17.0   \n",
      "3                         70.0                 54.0            33.0   \n",
      "4                         44.4                 66.0            32.0   \n",
      "..                         ...                  ...             ...   \n",
      "27                        41.2                 34.0            14.0   \n",
      "28                        63.6                 39.0            19.0   \n",
      "29                        69.2                 70.0            40.0   \n",
      "30                        40.0                 48.0            23.0   \n",
      "31                        40.0                 57.0            25.0   \n",
      "\n",
      "    o_red_zone_td_percentage  \n",
      "0                       39.1  \n",
      "1                       54.8  \n",
      "2                       42.5  \n",
      "3                       61.1  \n",
      "4                       48.5  \n",
      "..                       ...  \n",
      "27                      41.2  \n",
      "28                      48.7  \n",
      "29                      57.1  \n",
      "30                      47.9  \n",
      "31                      43.9  \n",
      "\n",
      "[64 rows x 70 columns]\n"
     ]
    }
   ],
   "source": [
    "print(combined)"
   ]
  },
  {
   "cell_type": "code",
   "execution_count": null,
   "id": "cf972a66",
   "metadata": {},
   "outputs": [],
   "source": []
  }
 ],
 "metadata": {
  "kernelspec": {
   "display_name": "Python 3 (ipykernel)",
   "language": "python",
   "name": "python3"
  },
  "language_info": {
   "codemirror_mode": {
    "name": "ipython",
    "version": 3
   },
   "file_extension": ".py",
   "mimetype": "text/x-python",
   "name": "python",
   "nbconvert_exporter": "python",
   "pygments_lexer": "ipython3",
   "version": "3.9.12"
  }
 },
 "nbformat": 4,
 "nbformat_minor": 5
}
