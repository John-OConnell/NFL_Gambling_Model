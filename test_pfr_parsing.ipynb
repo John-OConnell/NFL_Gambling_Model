{
 "cells": [
  {
   "cell_type": "code",
   "execution_count": 6,
   "id": "e06db600",
   "metadata": {},
   "outputs": [
    {
     "name": "stdout",
     "output_type": "stream",
     "text": [
      "<!DOCTYPE html>\n",
      "\n",
      "<!--[if lt IE 7]> <html class=\"no-js ie6 oldie\" lang=\"en-US\"> <![endif]-->\n",
      "<!--[if IE 7]>    <html class=\"no-js ie7 oldie\" lang=\"en-US\"> <![endif]-->\n",
      "<!--[if IE 8]>    <html class=\"no-js ie8 oldie\" lang=\"en-US\"> <![endif]-->\n",
      "<!--[if gt IE 8]><!--> <html class=\"no-js\" lang=\"en-US\"> <!--<![endif]-->\n",
      "<head>\n",
      "<title>Access denied | www.pro-football-reference.com used Cloudflare to restrict access</title>\n",
      "<meta charset=\"utf-8\"/>\n",
      "<meta content=\"text/html; charset=utf-8\" http-equiv=\"Content-Type\"/>\n",
      "<meta content=\"IE=Edge\" http-equiv=\"X-UA-Compatible\"/>\n",
      "<meta content=\"noindex, nofollow\" name=\"robots\"/>\n",
      "<meta content=\"width=device-width,initial-scale=1\" name=\"viewport\"/>\n",
      "<link href=\"/cdn-cgi/styles/main.css\" id=\"cf_styles-css\" rel=\"stylesheet\"/>\n",
      "<script>\n",
      "(function(){if(document.addEventListener&&window.XMLHttpRequest&&JSON&&JSON.stringify){var e=function(a){var c=document.getElementById(\"error-feedback-survey\"),d=document.getElementById(\"error-feedback-success\"),b=new XMLHttpRequest;a={event:\"feedback clicked\",properties:{errorCode:1015,helpful:a,version:1}};b.open(\"POST\",\"https://sparrow.cloudflare.com/api/v1/event\");b.setRequestHeader(\"Content-Type\",\"application/json\");b.setRequestHeader(\"Sparrow-Source-Key\",\"c771f0e4b54944bebf4261d44bd79a1e\");\n",
      "b.send(JSON.stringify(a));c.classList.add(\"feedback-hidden\");d.classList.remove(\"feedback-hidden\")};document.addEventListener(\"DOMContentLoaded\",function(){var a=document.getElementById(\"error-feedback\"),c=document.getElementById(\"feedback-button-yes\"),d=document.getElementById(\"feedback-button-no\");\"classList\"in a&&(a.classList.remove(\"feedback-hidden\"),c.addEventListener(\"click\",function(){e(!0)}),d.addEventListener(\"click\",function(){e(!1)}))})}})();\n",
      "</script>\n",
      "<script defer=\"\" src=\"https://performance.radar.cloudflare.com/beacon.js\"></script>\n",
      "</head>\n",
      "<body>\n",
      "<div id=\"cf-wrapper\">\n",
      "<div class=\"cf-alert cf-alert-error cf-cookie-error hidden\" data-translate=\"enable_cookies\" id=\"cookie-alert\">Please enable cookies.</div>\n",
      "<div class=\"p-0\" id=\"cf-error-details\">\n",
      "<header class=\"mx-auto pt-10 lg:pt-6 lg:px-8 w-240 lg:w-full mb-15 antialiased\">\n",
      "<h1 class=\"inline-block md:block mr-2 md:mb-2 font-light text-60 md:text-3xl text-black-dark leading-tight\">\n",
      "<span data-translate=\"error\">Error</span>\n",
      "<span>1015</span>\n",
      "</h1>\n",
      "<span class=\"inline-block md:block heading-ray-id font-mono text-15 lg:text-sm lg:leading-relaxed\">Ray ID: 79fc0bcfeab71845 •</span>\n",
      "<span class=\"inline-block md:block heading-ray-id font-mono text-15 lg:text-sm lg:leading-relaxed\">2023-02-26 22:16:37 UTC</span>\n",
      "<h2 class=\"text-gray-600 leading-1.3 text-3xl lg:text-2xl font-light\">You are being rate limited</h2>\n",
      "</header>\n",
      "<section class=\"w-240 lg:w-full mx-auto mb-8 lg:px-8\">\n",
      "<div class=\"w-1/2 md:w-full\" id=\"what-happened-section\">\n",
      "<h2 class=\"text-3xl leading-tight font-normal mb-4 text-black-dark antialiased\" data-translate=\"what_happened\">What happened?</h2>\n",
      "<p>The owner of this website (www.pro-football-reference.com) has banned you temporarily from accessing this website.</p>\n",
      "</div>\n",
      "</section>\n",
      "<div class=\"feedback-hidden py-8 text-center\" id=\"error-feedback\">\n",
      "<div class=\"footer-line-wrapper\" id=\"error-feedback-survey\">\n",
      "        Was this page helpful?\n",
      "        <button class=\"border border-solid bg-white cf-button cursor-pointer ml-4 px-4 py-2 rounded\" id=\"feedback-button-yes\" type=\"button\">Yes</button>\n",
      "<button class=\"border border-solid bg-white cf-button cursor-pointer ml-4 px-4 py-2 rounded\" id=\"feedback-button-no\" type=\"button\">No</button>\n",
      "</div>\n",
      "<div class=\"feedback-success feedback-hidden\" id=\"error-feedback-success\">\n",
      "        Thank you for your feedback!\n",
      "    </div>\n",
      "</div>\n",
      "<div class=\"cf-error-footer cf-wrapper w-240 lg:w-full py-10 sm:py-4 sm:px-8 mx-auto text-center sm:text-left border-solid border-0 border-t border-gray-300\">\n",
      "<p class=\"text-13\">\n",
      "<span class=\"cf-footer-item sm:block sm:mb-1\">Cloudflare Ray ID: <strong class=\"font-semibold\">79fc0bcfeab71845</strong></span>\n",
      "<span class=\"cf-footer-separator sm:hidden\">•</span>\n",
      "<span class=\"cf-footer-item hidden sm:block sm:mb-1\" id=\"cf-footer-item-ip\">\n",
      "      Your IP:\n",
      "      <button class=\"cf-footer-ip-reveal-btn\" id=\"cf-footer-ip-reveal\" type=\"button\">Click to reveal</button>\n",
      "<span class=\"hidden\" id=\"cf-footer-ip\">76.119.142.68</span>\n",
      "<span class=\"cf-footer-separator sm:hidden\">•</span>\n",
      "</span>\n",
      "<span class=\"cf-footer-item sm:block sm:mb-1\"><span>Performance &amp; security by</span> <a href=\"https://www.cloudflare.com/5xx-error-landing\" id=\"brand_link\" rel=\"noopener noreferrer\" target=\"_blank\">Cloudflare</a></span>\n",
      "</p>\n",
      "<script>(function(){function d(){var b=a.getElementById(\"cf-footer-item-ip\"),c=a.getElementById(\"cf-footer-ip-reveal\");b&&\"classList\"in b&&(b.classList.remove(\"hidden\"),c.addEventListener(\"click\",function(){c.classList.add(\"hidden\");a.getElementById(\"cf-footer-ip\").classList.remove(\"hidden\")}))}var a=document;document.addEventListener&&a.addEventListener(\"DOMContentLoaded\",d)})();</script>\n",
      "</div><!-- /.error-footer -->\n",
      "</div><!-- /#cf-error-details -->\n",
      "</div><!-- /#cf-wrapper -->\n",
      "<script>\n",
      "  window._cf_translation = {};\n",
      "  \n",
      "  \n",
      "</script>\n",
      "</body>\n",
      "</html>\n",
      "\n"
     ]
    },
    {
     "ename": "IndexError",
     "evalue": "list index out of range",
     "output_type": "error",
     "traceback": [
      "\u001b[0;31m---------------------------------------------------------------------------\u001b[0m",
      "\u001b[0;31mIndexError\u001b[0m                                Traceback (most recent call last)",
      "Input \u001b[0;32mIn [6]\u001b[0m, in \u001b[0;36m<cell line: 13>\u001b[0;34m()\u001b[0m\n\u001b[1;32m     11\u001b[0m \u001b[38;5;28mprint\u001b[39m(soup)\n\u001b[1;32m     12\u001b[0m \u001b[38;5;66;03m# grab the team stats table from the webpage\u001b[39;00m\n\u001b[0;32m---> 13\u001b[0m team_stats \u001b[38;5;241m=\u001b[39m \u001b[43msoup\u001b[49m\u001b[38;5;241;43m.\u001b[39;49m\u001b[43mfind_all\u001b[49m\u001b[43m(\u001b[49m\u001b[38;5;124;43m'\u001b[39;49m\u001b[38;5;124;43mtable\u001b[39;49m\u001b[38;5;124;43m'\u001b[39;49m\u001b[43m)\u001b[49m\u001b[43m[\u001b[49m\u001b[38;5;241;43m0\u001b[39;49m\u001b[43m]\u001b[49m\n\u001b[1;32m     14\u001b[0m \u001b[38;5;66;03m# grab the team conversions table from the webpage\u001b[39;00m\n\u001b[1;32m     15\u001b[0m team_conv \u001b[38;5;241m=\u001b[39m soup\u001b[38;5;241m.\u001b[39mfind_all(\u001b[38;5;124m'\u001b[39m\u001b[38;5;124mtable\u001b[39m\u001b[38;5;124m'\u001b[39m)[\u001b[38;5;241m2\u001b[39m]\n",
      "\u001b[0;31mIndexError\u001b[0m: list index out of range"
     ]
    }
   ],
   "source": [
    "from bs4 import BeautifulSoup\n",
    "import numpy as np\n",
    "import pandas as pd\n",
    "import requests\n",
    "\n",
    "url = 'https://www.pro-football-reference.com'\n",
    "\n",
    "r = requests.get(url + '/teams/nwe/2022.htm')\n",
    "# use beautiful soup to return the html of the webpage\n",
    "soup = BeautifulSoup(r.content, 'html.parser')\n",
    "print(soup)\n",
    "# grab the team stats table from the webpage\n",
    "team_stats = soup.find_all('table')[0]\n",
    "# grab the team conversions table from the webpage\n",
    "team_conv = soup.find_all('table')[2]\n",
    "#print(team_conv)"
   ]
  },
  {
   "cell_type": "code",
   "execution_count": 4,
   "id": "35dcfda8",
   "metadata": {
    "scrolled": true
   },
   "outputs": [
    {
     "ename": "NameError",
     "evalue": "name 'team_stats' is not defined",
     "output_type": "error",
     "traceback": [
      "\u001b[0;31m---------------------------------------------------------------------------\u001b[0m",
      "\u001b[0;31mNameError\u001b[0m                                 Traceback (most recent call last)",
      "Input \u001b[0;32mIn [4]\u001b[0m, in \u001b[0;36m<cell line: 3>\u001b[0;34m()\u001b[0m\n\u001b[1;32m      1\u001b[0m \u001b[38;5;66;03m# transform team_stats table into nested array of data\u001b[39;00m\n\u001b[1;32m      2\u001b[0m \u001b[38;5;66;03m# collect column headers\u001b[39;00m\n\u001b[0;32m----> 3\u001b[0m column_headers \u001b[38;5;241m=\u001b[39m \u001b[43mteam_stats\u001b[49m\u001b[38;5;241m.\u001b[39mfindAll(\u001b[38;5;124m'\u001b[39m\u001b[38;5;124mtr\u001b[39m\u001b[38;5;124m'\u001b[39m)[\u001b[38;5;241m1\u001b[39m]\n\u001b[1;32m      4\u001b[0m column_headers \u001b[38;5;241m=\u001b[39m [i\u001b[38;5;241m.\u001b[39mgetText() \u001b[38;5;28;01mfor\u001b[39;00m i \u001b[38;5;129;01min\u001b[39;00m column_headers\u001b[38;5;241m.\u001b[39mfindAll(\u001b[38;5;124m'\u001b[39m\u001b[38;5;124mth\u001b[39m\u001b[38;5;124m'\u001b[39m)[\u001b[38;5;241m1\u001b[39m:\u001b[38;5;241m26\u001b[39m]]\n\u001b[1;32m      6\u001b[0m \u001b[38;5;66;03m# Collect table rows\u001b[39;00m\n",
      "\u001b[0;31mNameError\u001b[0m: name 'team_stats' is not defined"
     ]
    }
   ],
   "source": [
    "# transform team_stats table into nested array of data\n",
    "# collect column headers\n",
    "column_headers = team_stats.findAll('tr')[1]\n",
    "column_headers = [i.getText() for i in column_headers.findAll('th')[1:26]]\n",
    "\n",
    "# Collect table rows\n",
    "rows = team_stats.findAll('tr')[2:4]\n",
    "# Get stats from each row\n",
    "stats = []\n",
    "for i in range(len(rows)):\n",
    "    stats.append([float(col.getText()) for col in rows[i].findAll('td')[:25]])\n",
    "\n",
    "labeled_stats = [column_headers] + stats\n",
    "\n",
    "print(labeled_stats)"
   ]
  },
  {
   "cell_type": "code",
   "execution_count": 25,
   "id": "c048a31b",
   "metadata": {},
   "outputs": [
    {
     "name": "stdout",
     "output_type": "stream",
     "text": [
      "[['PF', 'Yds', 'Ply', 'Y/P', 'TO', 'FL', '1stD', 'Cmp', 'Att', 'Yds', 'TD', 'Int', 'NY/A', '1stD', 'Att', 'Yds', 'TD', 'Y/A', '1stD', 'Pen', 'Yds', '1stPy', '#Dr', 'Sc%', 'TO%', '3DAtt', '3DConv', '3D%', '4DAtt', '4DConv', '4D%', 'RZAtt', 'RZTD', 'RZPct'], [364.0, 5348.0, 1006.0, 5.3, 23.0, 9.0, 288.0, 358.0, 540.0, 3536.0, 19.0, 14.0, 6.1, 166.0, 425.0, 1812.0, 12.0, 4.3, 98.0, 104.0, 841.0, 24.0, 192.0, 32.8, 12.0, 215.0, 75.0, 34.9, 13.0, 5.0, 38.5, 45.0, 19.0, 42.2], [347.0, 5474.0, 1091.0, 5.0, 30.0, 11.0, 314.0, 364.0, 596.0, 3681.0, 28.0, 19.0, 5.7, 194.0, 441.0, 1793.0, 7.0, 4.1, 90.0, 89.0, 699.0, 30.0, 190.0, 30.5, 14.2, 241.0, 97.0, 40.2, 27.0, 10.0, 37.0, 50.0, 29.0, 58.0]]\n"
     ]
    }
   ],
   "source": [
    "# transform team_conv table into nested array of data\n",
    "# collect column headers\n",
    "column_headers = team_conv.findAll('tr')[1]\n",
    "column_headers = [i.getText() for i in column_headers.findAll('th')[1:]]\n",
    "\n",
    "# Collect table rows\n",
    "rows = team_conv.findAll('tr')[2:4]\n",
    "# Get stats from each row\n",
    "stats = []\n",
    "for i in range(len(rows)):\n",
    "    stats.append([float(col.getText()) for col in rows[i].findAll('td')])\n",
    "\n",
    "# add team_conv stats to labeled_stats\n",
    "labeled_stats[0] += column_headers\n",
    "labeled_stats[1] += stats[0]\n",
    "labeled_stats[2] += stats[1]\n",
    "print(labeled_stats)"
   ]
  },
  {
   "cell_type": "code",
   "execution_count": 26,
   "id": "5b9dde97",
   "metadata": {
    "scrolled": true
   },
   "outputs": [
    {
     "name": "stdout",
     "output_type": "stream",
     "text": [
      "PF\tYds\tPly\tY/P\tTO\tFL\t1stD\tCmp\tAtt\tYds\tTD\tInt\tNY/A\t1stD\tAtt\tYds\tTD\tY/A\t1stD\tPen\tYds\t1stPy\t#Dr\tSc%\tTO%\t3DAtt\t3DConv\t3D%\t4DAtt\t4DConv\t4D%\tRZAtt\tRZTD\tRZPct\t\n",
      "364.0\t5348.0\t1006.0\t5.3\t23.0\t9.0\t288.0\t358.0\t540.0\t3536.0\t19.0\t14.0\t6.1\t166.0\t425.0\t1812.0\t12.0\t4.3\t98.0\t104.0\t841.0\t24.0\t192.0\t32.8\t12.0\t215.0\t75.0\t34.9\t13.0\t5.0\t38.5\t45.0\t19.0\t42.2\t\n",
      "347.0\t5474.0\t1091.0\t5.0\t30.0\t11.0\t314.0\t364.0\t596.0\t3681.0\t28.0\t19.0\t5.7\t194.0\t441.0\t1793.0\t7.0\t4.1\t90.0\t89.0\t699.0\t30.0\t190.0\t30.5\t14.2\t241.0\t97.0\t40.2\t27.0\t10.0\t37.0\t50.0\t29.0\t58.0\t\n"
     ]
    }
   ],
   "source": [
    "for row in labeled_stats:\n",
    "    for stat in row:\n",
    "        print(stat, end = \"\\t\")\n",
    "    print(\"\")"
   ]
  }
 ],
 "metadata": {
  "kernelspec": {
   "display_name": "Python 3 (ipykernel)",
   "language": "python",
   "name": "python3"
  },
  "language_info": {
   "codemirror_mode": {
    "name": "ipython",
    "version": 3
   },
   "file_extension": ".py",
   "mimetype": "text/x-python",
   "name": "python",
   "nbconvert_exporter": "python",
   "pygments_lexer": "ipython3",
   "version": "3.9.12"
  }
 },
 "nbformat": 4,
 "nbformat_minor": 5
}
