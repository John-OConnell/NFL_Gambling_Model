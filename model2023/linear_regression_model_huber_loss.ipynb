{
 "cells": [
  {
   "cell_type": "code",
   "execution_count": 15,
   "id": "f4f955c8",
   "metadata": {},
   "outputs": [],
   "source": [
    "import numpy as np\n",
    "import pandas as pd\n",
    "import matplotlib.pyplot as plt\n",
    "from sklearn import linear_model\n",
    "from sklearn import preprocessing\n",
    "from sklearn.metrics import mean_squared_error\n",
    "from vardata import years, team_abbr, columns, teams_idx\n",
    "from results_processor import *"
   ]
  },
  {
   "cell_type": "code",
   "execution_count": 16,
   "id": "e16b3230",
   "metadata": {
    "scrolled": true
   },
   "outputs": [],
   "source": [
    "# read in data csv to df\n",
    "df = pd.read_csv('stats/final_data.csv', index_col=[0])"
   ]
  },
  {
   "cell_type": "code",
   "execution_count": 17,
   "id": "3a476128",
   "metadata": {
    "scrolled": true
   },
   "outputs": [
    {
     "name": "stdout",
     "output_type": "stream",
     "text": [
      "Dimension of dataset=  (3417, 75)\n"
     ]
    },
    {
     "data": {
      "text/html": [
       "<div>\n",
       "<style scoped>\n",
       "    .dataframe tbody tr th:only-of-type {\n",
       "        vertical-align: middle;\n",
       "    }\n",
       "\n",
       "    .dataframe tbody tr th {\n",
       "        vertical-align: top;\n",
       "    }\n",
       "\n",
       "    .dataframe thead th {\n",
       "        text-align: right;\n",
       "    }\n",
       "</style>\n",
       "<table border=\"1\" class=\"dataframe\">\n",
       "  <thead>\n",
       "    <tr style=\"text-align: right;\">\n",
       "      <th></th>\n",
       "      <th>home_team</th>\n",
       "      <th>away_team</th>\n",
       "      <th>ht_points_for</th>\n",
       "      <th>ht_yards</th>\n",
       "      <th>ht_plays</th>\n",
       "      <th>ht_yards_per_play</th>\n",
       "      <th>ht_turnovers</th>\n",
       "      <th>ht_fumbles_lost</th>\n",
       "      <th>ht_first_downs</th>\n",
       "      <th>ht_completions</th>\n",
       "      <th>...</th>\n",
       "      <th>at_4D_conversions</th>\n",
       "      <th>at_4D_conversion_percentage</th>\n",
       "      <th>at_red_zone_attempts</th>\n",
       "      <th>at_red_zone_tds</th>\n",
       "      <th>at_red_zone_td_percentage</th>\n",
       "      <th>ht_score</th>\n",
       "      <th>at_score</th>\n",
       "      <th>total_points</th>\n",
       "      <th>ht_pts_diff</th>\n",
       "      <th>ht_vegas_line</th>\n",
       "    </tr>\n",
       "  </thead>\n",
       "  <tbody>\n",
       "    <tr>\n",
       "      <th>0</th>\n",
       "      <td>nor</td>\n",
       "      <td>min</td>\n",
       "      <td>366.0</td>\n",
       "      <td>5481.0</td>\n",
       "      <td>1022.0</td>\n",
       "      <td>5.35</td>\n",
       "      <td>28.5</td>\n",
       "      <td>10.0</td>\n",
       "      <td>313.5</td>\n",
       "      <td>391.5</td>\n",
       "      <td>...</td>\n",
       "      <td>11.5</td>\n",
       "      <td>56.15</td>\n",
       "      <td>45.5</td>\n",
       "      <td>20.0</td>\n",
       "      <td>43.95</td>\n",
       "      <td>14</td>\n",
       "      <td>9</td>\n",
       "      <td>23</td>\n",
       "      <td>5</td>\n",
       "      <td>-5.0</td>\n",
       "    </tr>\n",
       "    <tr>\n",
       "      <th>1</th>\n",
       "      <td>pit</td>\n",
       "      <td>atl</td>\n",
       "      <td>331.5</td>\n",
       "      <td>5422.0</td>\n",
       "      <td>975.0</td>\n",
       "      <td>5.60</td>\n",
       "      <td>24.5</td>\n",
       "      <td>9.0</td>\n",
       "      <td>289.5</td>\n",
       "      <td>331.0</td>\n",
       "      <td>...</td>\n",
       "      <td>10.5</td>\n",
       "      <td>67.90</td>\n",
       "      <td>49.0</td>\n",
       "      <td>25.5</td>\n",
       "      <td>50.15</td>\n",
       "      <td>15</td>\n",
       "      <td>9</td>\n",
       "      <td>24</td>\n",
       "      <td>6</td>\n",
       "      <td>1.5</td>\n",
       "    </tr>\n",
       "    <tr>\n",
       "      <th>2</th>\n",
       "      <td>buf</td>\n",
       "      <td>mia</td>\n",
       "      <td>308.0</td>\n",
       "      <td>4913.5</td>\n",
       "      <td>971.0</td>\n",
       "      <td>5.05</td>\n",
       "      <td>29.0</td>\n",
       "      <td>13.0</td>\n",
       "      <td>263.5</td>\n",
       "      <td>292.0</td>\n",
       "      <td>...</td>\n",
       "      <td>5.0</td>\n",
       "      <td>50.00</td>\n",
       "      <td>44.0</td>\n",
       "      <td>25.5</td>\n",
       "      <td>57.00</td>\n",
       "      <td>10</td>\n",
       "      <td>15</td>\n",
       "      <td>25</td>\n",
       "      <td>-5</td>\n",
       "      <td>3.0</td>\n",
       "    </tr>\n",
       "    <tr>\n",
       "      <th>3</th>\n",
       "      <td>chi</td>\n",
       "      <td>det</td>\n",
       "      <td>351.5</td>\n",
       "      <td>5064.0</td>\n",
       "      <td>970.5</td>\n",
       "      <td>5.20</td>\n",
       "      <td>30.0</td>\n",
       "      <td>12.5</td>\n",
       "      <td>291.5</td>\n",
       "      <td>303.0</td>\n",
       "      <td>...</td>\n",
       "      <td>8.0</td>\n",
       "      <td>54.35</td>\n",
       "      <td>43.5</td>\n",
       "      <td>24.5</td>\n",
       "      <td>56.00</td>\n",
       "      <td>19</td>\n",
       "      <td>14</td>\n",
       "      <td>33</td>\n",
       "      <td>5</td>\n",
       "      <td>-6.5</td>\n",
       "    </tr>\n",
       "    <tr>\n",
       "      <th>4</th>\n",
       "      <td>nwe</td>\n",
       "      <td>cin</td>\n",
       "      <td>456.5</td>\n",
       "      <td>5566.0</td>\n",
       "      <td>971.5</td>\n",
       "      <td>5.75</td>\n",
       "      <td>18.0</td>\n",
       "      <td>7.5</td>\n",
       "      <td>312.5</td>\n",
       "      <td>328.5</td>\n",
       "      <td>...</td>\n",
       "      <td>12.5</td>\n",
       "      <td>64.20</td>\n",
       "      <td>52.5</td>\n",
       "      <td>27.0</td>\n",
       "      <td>51.55</td>\n",
       "      <td>38</td>\n",
       "      <td>24</td>\n",
       "      <td>62</td>\n",
       "      <td>14</td>\n",
       "      <td>-5.5</td>\n",
       "    </tr>\n",
       "  </tbody>\n",
       "</table>\n",
       "<p>5 rows × 75 columns</p>\n",
       "</div>"
      ],
      "text/plain": [
       "  home_team away_team  ht_points_for  ht_yards  ht_plays  ht_yards_per_play  \\\n",
       "0       nor       min          366.0    5481.0    1022.0               5.35   \n",
       "1       pit       atl          331.5    5422.0     975.0               5.60   \n",
       "2       buf       mia          308.0    4913.5     971.0               5.05   \n",
       "3       chi       det          351.5    5064.0     970.5               5.20   \n",
       "4       nwe       cin          456.5    5566.0     971.5               5.75   \n",
       "\n",
       "   ht_turnovers  ht_fumbles_lost  ht_first_downs  ht_completions  ...  \\\n",
       "0          28.5             10.0           313.5           391.5  ...   \n",
       "1          24.5              9.0           289.5           331.0  ...   \n",
       "2          29.0             13.0           263.5           292.0  ...   \n",
       "3          30.0             12.5           291.5           303.0  ...   \n",
       "4          18.0              7.5           312.5           328.5  ...   \n",
       "\n",
       "   at_4D_conversions  at_4D_conversion_percentage  at_red_zone_attempts  \\\n",
       "0               11.5                        56.15                  45.5   \n",
       "1               10.5                        67.90                  49.0   \n",
       "2                5.0                        50.00                  44.0   \n",
       "3                8.0                        54.35                  43.5   \n",
       "4               12.5                        64.20                  52.5   \n",
       "\n",
       "   at_red_zone_tds  at_red_zone_td_percentage  ht_score  at_score  \\\n",
       "0             20.0                      43.95        14         9   \n",
       "1             25.5                      50.15        15         9   \n",
       "2             25.5                      57.00        10        15   \n",
       "3             24.5                      56.00        19        14   \n",
       "4             27.0                      51.55        38        24   \n",
       "\n",
       "   total_points  ht_pts_diff  ht_vegas_line  \n",
       "0            23            5           -5.0  \n",
       "1            24            6            1.5  \n",
       "2            25           -5            3.0  \n",
       "3            33            5           -6.5  \n",
       "4            62           14           -5.5  \n",
       "\n",
       "[5 rows x 75 columns]"
      ]
     },
     "execution_count": 17,
     "metadata": {},
     "output_type": "execute_result"
    }
   ],
   "source": [
    "# preview the data to ensure it was read correctly\n",
    "print('Dimension of dataset= ', df.shape)\n",
    "df.head() # To get first n rows from the dataset default value of n is 5"
   ]
  },
  {
   "cell_type": "code",
   "execution_count": 18,
   "id": "4629422b",
   "metadata": {},
   "outputs": [],
   "source": [
    "X = df.values[:, 2:70]  # get input values from first two columns\n",
    "y = df.values[:, 73]  # get output values from last coulmn\n",
    "m = len(y) # number of training examples"
   ]
  },
  {
   "cell_type": "code",
   "execution_count": 19,
   "id": "4ab3ebcb",
   "metadata": {},
   "outputs": [
    {
     "name": "stdout",
     "output_type": "stream",
     "text": [
      "Total no of samples (m) = 3417 \n",
      "\n",
      "X = [366.0 5481.0 1022.0 5.35 28.5 10.0 313.5 391.5 595.0 3904.0 29.0 18.5\n",
      " 6.25 207.0 398.5 1577.0 9.5 3.95 90.5 94.0 835.0 16.0 179.0 33.65 14.6\n",
      " 294.0 4969.5 965.0 5.15 31.0 13.5 281.0 305.5 499.5 3100.0 13.5 17.5\n",
      " 5.800000000000001 154.5 431.0 1869.5 14.5 4.35 99.0 94.0 735.0 27.5 181.0\n",
      " 28.35 15.85 215.0 96.5 44.8 10.5 5.0 47.75 53.5 28.5 53.65 204.0 70.5\n",
      " 34.55 20.0 11.5 56.150000000000006 45.5 20.0 43.95] , y = 5\n",
      "X = [331.5 5422.0 975.0 5.6 24.5 9.0 289.5 331.0 519.5 3613.0 22.5 15.5 6.5\n",
      " 179.0 418.5 1809.0 12.0 4.35 96.5 108.0 953.0 14.0 179.5 31.5 12.8 323.0\n",
      " 4943.5 1035.5 4.75 26.0 11.0 312.5 362.0 585.0 3496.0 21.5 15.0 5.6 191.0\n",
      " 415.0 1447.5 9.5 3.4 86.0 72.0 657.0 35.5 178.5 32.5 13.15 209.5 86.5\n",
      " 41.2 11.0 5.5 46.45 46.0 23.5 51.4 224.5 91.0 40.1 15.5 10.5 67.9 49.0\n",
      " 25.5 50.15] , y = 6\n",
      "X = [308.0 4913.5 971.0 5.05 29.0 13.0 263.5 292.0 510.5 3253.0 23.0 16.0 5.95\n",
      " 166.0 424.0 1660.5 7.0 3.95 83.0 83.5 681.5 14.5 181.5 28.4 14.55 349.0\n",
      " 5478.0 1055.5 5.2 26.5 10.5 317.5 314.5 515.0 3299.5 22.5 16.0 6.0 184.0\n",
      " 508.0 2178.5 13.0 4.25 114.5 78.5 614.5 19.0 188.0 34.5 13.1 218.5 82.0\n",
      " 37.55 23.0 9.5 41.099999999999994 41.0 18.5 45.7 228.5 95.0 41.6 10.0 5.0\n",
      " 50.0 44.0 25.5 57.0] , y = -5\n",
      "X = [351.5 5064.0 970.5 5.2 30.0 12.5 291.5 303.0 492.0 3256.5 23.0 17.5 6.0\n",
      " 175.0 428.5 1807.5 14.0 4.2 87.0 98.5 811.0 29.5 195.0 30.3 14.6 324.0\n",
      " 5226.0 1033.0 5.05 30.0 11.5 293.0 373.0 607.5 3699.0 20.0 18.5 5.8 191.0\n",
      " 395.0 1527.0 12.5 3.85 85.5 114.5 904.0 16.5 194.5 28.55 15.15 196.5 70.5\n",
      " 35.849999999999994 9.5 3.5 35.150000000000006 48.5 25.0\n",
      " 51.900000000000006 229.0 86.0 37.400000000000006 14.5 8.0 54.35 43.5 24.5\n",
      " 56.0] , y = 5\n",
      "X = [456.5 5566.0 971.5 5.75 18.0 7.5 312.5 328.5 510.5 3658.0 29.0 10.5\n",
      " 6.800000000000001 183.0 435.0 1908.0 17.0 4.35 108.0 89.0 771.0 21.5\n",
      " 174.0 41.1 9.3 317.5 5576.5 1051.0 5.35 36.0 13.5 332.5 376.5 600.5\n",
      " 3951.5 25.5 22.5 6.25 216.0 418.5 1625.0 9.0 3.9 92.0 87.0 706.0 24.5\n",
      " 183.0 30.6 18.65 197.5 85.0 43.05 10.5 4.5 39.3 56.0 31.5 54.7 217.0 93.0\n",
      " 42.95 19.5 12.5 64.2 52.5 27.0 51.55] , y = 14\n"
     ]
    }
   ],
   "source": [
    "# preview the data\n",
    "print('Total no of samples (m) = %s \\n' %(m))\n",
    "\n",
    "# Show only first 5 records\n",
    "for i in range(5):\n",
    "    print('X =', X[i, ], ', y =', y[i])"
   ]
  },
  {
   "cell_type": "code",
   "execution_count": 20,
   "id": "87d70046",
   "metadata": {},
   "outputs": [],
   "source": [
    "# split data into train and test sets\n",
    "# 10 years of data for training, 3 years of data for testing\n",
    "X_train = X[:2560]\n",
    "X_test = X[2560:]\n",
    "y_train = y[:2560]\n",
    "y_test = y[2560:]"
   ]
  },
  {
   "cell_type": "code",
   "execution_count": 21,
   "id": "adccc24a",
   "metadata": {},
   "outputs": [],
   "source": [
    "X_train = X\n",
    "y_train = y"
   ]
  },
  {
   "cell_type": "code",
   "execution_count": 22,
   "id": "309d1f5f",
   "metadata": {},
   "outputs": [],
   "source": [
    "# create linear regression model with huber loss\n",
    "model_r = linear_model.HuberRegressor(epsilon = 3, max_iter = 2000)"
   ]
  },
  {
   "cell_type": "code",
   "execution_count": 23,
   "id": "2cbf212d",
   "metadata": {
    "scrolled": true
   },
   "outputs": [],
   "source": [
    "# define scaler and transform input data\n",
    "scaler = preprocessing.MinMaxScaler().fit(X_train)\n",
    "X_scaled_train = scaler.transform(X_train)\n",
    "X_scaled_test = scaler.transform(X_test)"
   ]
  },
  {
   "cell_type": "code",
   "execution_count": 24,
   "id": "8e732ca3",
   "metadata": {
    "scrolled": true
   },
   "outputs": [
    {
     "data": {
      "text/html": [
       "<style>#sk-container-id-2 {color: black;background-color: white;}#sk-container-id-2 pre{padding: 0;}#sk-container-id-2 div.sk-toggleable {background-color: white;}#sk-container-id-2 label.sk-toggleable__label {cursor: pointer;display: block;width: 100%;margin-bottom: 0;padding: 0.3em;box-sizing: border-box;text-align: center;}#sk-container-id-2 label.sk-toggleable__label-arrow:before {content: \"▸\";float: left;margin-right: 0.25em;color: #696969;}#sk-container-id-2 label.sk-toggleable__label-arrow:hover:before {color: black;}#sk-container-id-2 div.sk-estimator:hover label.sk-toggleable__label-arrow:before {color: black;}#sk-container-id-2 div.sk-toggleable__content {max-height: 0;max-width: 0;overflow: hidden;text-align: left;background-color: #f0f8ff;}#sk-container-id-2 div.sk-toggleable__content pre {margin: 0.2em;color: black;border-radius: 0.25em;background-color: #f0f8ff;}#sk-container-id-2 input.sk-toggleable__control:checked~div.sk-toggleable__content {max-height: 200px;max-width: 100%;overflow: auto;}#sk-container-id-2 input.sk-toggleable__control:checked~label.sk-toggleable__label-arrow:before {content: \"▾\";}#sk-container-id-2 div.sk-estimator input.sk-toggleable__control:checked~label.sk-toggleable__label {background-color: #d4ebff;}#sk-container-id-2 div.sk-label input.sk-toggleable__control:checked~label.sk-toggleable__label {background-color: #d4ebff;}#sk-container-id-2 input.sk-hidden--visually {border: 0;clip: rect(1px 1px 1px 1px);clip: rect(1px, 1px, 1px, 1px);height: 1px;margin: -1px;overflow: hidden;padding: 0;position: absolute;width: 1px;}#sk-container-id-2 div.sk-estimator {font-family: monospace;background-color: #f0f8ff;border: 1px dotted black;border-radius: 0.25em;box-sizing: border-box;margin-bottom: 0.5em;}#sk-container-id-2 div.sk-estimator:hover {background-color: #d4ebff;}#sk-container-id-2 div.sk-parallel-item::after {content: \"\";width: 100%;border-bottom: 1px solid gray;flex-grow: 1;}#sk-container-id-2 div.sk-label:hover label.sk-toggleable__label {background-color: #d4ebff;}#sk-container-id-2 div.sk-serial::before {content: \"\";position: absolute;border-left: 1px solid gray;box-sizing: border-box;top: 0;bottom: 0;left: 50%;z-index: 0;}#sk-container-id-2 div.sk-serial {display: flex;flex-direction: column;align-items: center;background-color: white;padding-right: 0.2em;padding-left: 0.2em;position: relative;}#sk-container-id-2 div.sk-item {position: relative;z-index: 1;}#sk-container-id-2 div.sk-parallel {display: flex;align-items: stretch;justify-content: center;background-color: white;position: relative;}#sk-container-id-2 div.sk-item::before, #sk-container-id-2 div.sk-parallel-item::before {content: \"\";position: absolute;border-left: 1px solid gray;box-sizing: border-box;top: 0;bottom: 0;left: 50%;z-index: -1;}#sk-container-id-2 div.sk-parallel-item {display: flex;flex-direction: column;z-index: 1;position: relative;background-color: white;}#sk-container-id-2 div.sk-parallel-item:first-child::after {align-self: flex-end;width: 50%;}#sk-container-id-2 div.sk-parallel-item:last-child::after {align-self: flex-start;width: 50%;}#sk-container-id-2 div.sk-parallel-item:only-child::after {width: 0;}#sk-container-id-2 div.sk-dashed-wrapped {border: 1px dashed gray;margin: 0 0.4em 0.5em 0.4em;box-sizing: border-box;padding-bottom: 0.4em;background-color: white;}#sk-container-id-2 div.sk-label label {font-family: monospace;font-weight: bold;display: inline-block;line-height: 1.2em;}#sk-container-id-2 div.sk-label-container {text-align: center;}#sk-container-id-2 div.sk-container {/* jupyter's `normalize.less` sets `[hidden] { display: none; }` but bootstrap.min.css set `[hidden] { display: none !important; }` so we also need the `!important` here to be able to override the default hidden behavior on the sphinx rendered scikit-learn.org. See: https://github.com/scikit-learn/scikit-learn/issues/21755 */display: inline-block !important;position: relative;}#sk-container-id-2 div.sk-text-repr-fallback {display: none;}</style><div id=\"sk-container-id-2\" class=\"sk-top-container\"><div class=\"sk-text-repr-fallback\"><pre>HuberRegressor(epsilon=3, max_iter=2000)</pre><b>In a Jupyter environment, please rerun this cell to show the HTML representation or trust the notebook. <br />On GitHub, the HTML representation is unable to render, please try loading this page with nbviewer.org.</b></div><div class=\"sk-container\" hidden><div class=\"sk-item\"><div class=\"sk-estimator sk-toggleable\"><input class=\"sk-toggleable__control sk-hidden--visually\" id=\"sk-estimator-id-2\" type=\"checkbox\" checked><label for=\"sk-estimator-id-2\" class=\"sk-toggleable__label sk-toggleable__label-arrow\">HuberRegressor</label><div class=\"sk-toggleable__content\"><pre>HuberRegressor(epsilon=3, max_iter=2000)</pre></div></div></div></div></div>"
      ],
      "text/plain": [
       "HuberRegressor(epsilon=3, max_iter=2000)"
      ]
     },
     "execution_count": 24,
     "metadata": {},
     "output_type": "execute_result"
    }
   ],
   "source": [
    "# fit model to training data\n",
    "model_r.fit(X_scaled_train,y_train)"
   ]
  },
  {
   "cell_type": "code",
   "execution_count": 25,
   "id": "9e36c790",
   "metadata": {},
   "outputs": [],
   "source": [
    "# get results of model on test data\n",
    "results = np.array([])\n",
    "for each in X_scaled_test:\n",
    "    outcome = model_r.predict([each])\n",
    "    results = np.append(results, [outcome])"
   ]
  },
  {
   "cell_type": "code",
   "execution_count": 26,
   "id": "2128f5b0",
   "metadata": {
    "scrolled": true
   },
   "outputs": [],
   "source": [
    "results_df = pd.DataFrame(columns = ['ht_pts_diff', 'ht_vegas_line', 'model_pred'])\n",
    "results_df['ht_pts_diff'] = df['ht_pts_diff'][2560:]\n",
    "results_df['ht_vegas_line'] = df['ht_vegas_line'][2560:]\n",
    "results_df = results_df.reset_index(drop = True)\n",
    "results_df['model_pred'] = results.tolist()"
   ]
  },
  {
   "cell_type": "code",
   "execution_count": 27,
   "id": "2dd4590b",
   "metadata": {},
   "outputs": [],
   "source": [
    "# get results of model on training data\n",
    "train_results = np.array([])\n",
    "for each in X_scaled_train:\n",
    "    outcome = model_r.predict([each])\n",
    "    train_results = np.append(train_results, [outcome])"
   ]
  },
  {
   "cell_type": "code",
   "execution_count": 28,
   "id": "c13164e0",
   "metadata": {
    "scrolled": true
   },
   "outputs": [
    {
     "ename": "ValueError",
     "evalue": "Length of values (3417) does not match length of index (2560)",
     "output_type": "error",
     "traceback": [
      "\u001b[0;31m---------------------------------------------------------------------------\u001b[0m",
      "\u001b[0;31mValueError\u001b[0m                                Traceback (most recent call last)",
      "Cell \u001b[0;32mIn[28], line 5\u001b[0m\n\u001b[1;32m      3\u001b[0m train_results_df[\u001b[38;5;124m'\u001b[39m\u001b[38;5;124mht_vegas_line\u001b[39m\u001b[38;5;124m'\u001b[39m] \u001b[38;5;241m=\u001b[39m df[\u001b[38;5;124m'\u001b[39m\u001b[38;5;124mht_vegas_line\u001b[39m\u001b[38;5;124m'\u001b[39m][:\u001b[38;5;241m2560\u001b[39m]\n\u001b[1;32m      4\u001b[0m train_results_df \u001b[38;5;241m=\u001b[39m train_results_df\u001b[38;5;241m.\u001b[39mreset_index(drop \u001b[38;5;241m=\u001b[39m \u001b[38;5;28;01mTrue\u001b[39;00m)\n\u001b[0;32m----> 5\u001b[0m train_results_df[\u001b[38;5;124m'\u001b[39m\u001b[38;5;124mmodel_pred\u001b[39m\u001b[38;5;124m'\u001b[39m] \u001b[38;5;241m=\u001b[39m train_results\u001b[38;5;241m.\u001b[39mtolist()\n",
      "File \u001b[0;32m~/miniconda3/lib/python3.10/site-packages/pandas/core/frame.py:3980\u001b[0m, in \u001b[0;36mDataFrame.__setitem__\u001b[0;34m(self, key, value)\u001b[0m\n\u001b[1;32m   3977\u001b[0m     \u001b[38;5;28mself\u001b[39m\u001b[38;5;241m.\u001b[39m_setitem_array([key], value)\n\u001b[1;32m   3978\u001b[0m \u001b[38;5;28;01melse\u001b[39;00m:\n\u001b[1;32m   3979\u001b[0m     \u001b[38;5;66;03m# set column\u001b[39;00m\n\u001b[0;32m-> 3980\u001b[0m     \u001b[38;5;28;43mself\u001b[39;49m\u001b[38;5;241;43m.\u001b[39;49m\u001b[43m_set_item\u001b[49m\u001b[43m(\u001b[49m\u001b[43mkey\u001b[49m\u001b[43m,\u001b[49m\u001b[43m \u001b[49m\u001b[43mvalue\u001b[49m\u001b[43m)\u001b[49m\n",
      "File \u001b[0;32m~/miniconda3/lib/python3.10/site-packages/pandas/core/frame.py:4174\u001b[0m, in \u001b[0;36mDataFrame._set_item\u001b[0;34m(self, key, value)\u001b[0m\n\u001b[1;32m   4164\u001b[0m \u001b[38;5;28;01mdef\u001b[39;00m \u001b[38;5;21m_set_item\u001b[39m(\u001b[38;5;28mself\u001b[39m, key, value) \u001b[38;5;241m-\u001b[39m\u001b[38;5;241m>\u001b[39m \u001b[38;5;28;01mNone\u001b[39;00m:\n\u001b[1;32m   4165\u001b[0m \u001b[38;5;250m    \u001b[39m\u001b[38;5;124;03m\"\"\"\u001b[39;00m\n\u001b[1;32m   4166\u001b[0m \u001b[38;5;124;03m    Add series to DataFrame in specified column.\u001b[39;00m\n\u001b[1;32m   4167\u001b[0m \n\u001b[0;32m   (...)\u001b[0m\n\u001b[1;32m   4172\u001b[0m \u001b[38;5;124;03m    ensure homogeneity.\u001b[39;00m\n\u001b[1;32m   4173\u001b[0m \u001b[38;5;124;03m    \"\"\"\u001b[39;00m\n\u001b[0;32m-> 4174\u001b[0m     value \u001b[38;5;241m=\u001b[39m \u001b[38;5;28;43mself\u001b[39;49m\u001b[38;5;241;43m.\u001b[39;49m\u001b[43m_sanitize_column\u001b[49m\u001b[43m(\u001b[49m\u001b[43mvalue\u001b[49m\u001b[43m)\u001b[49m\n\u001b[1;32m   4176\u001b[0m     \u001b[38;5;28;01mif\u001b[39;00m (\n\u001b[1;32m   4177\u001b[0m         key \u001b[38;5;129;01min\u001b[39;00m \u001b[38;5;28mself\u001b[39m\u001b[38;5;241m.\u001b[39mcolumns\n\u001b[1;32m   4178\u001b[0m         \u001b[38;5;129;01mand\u001b[39;00m value\u001b[38;5;241m.\u001b[39mndim \u001b[38;5;241m==\u001b[39m \u001b[38;5;241m1\u001b[39m\n\u001b[1;32m   4179\u001b[0m         \u001b[38;5;129;01mand\u001b[39;00m \u001b[38;5;129;01mnot\u001b[39;00m is_extension_array_dtype(value)\n\u001b[1;32m   4180\u001b[0m     ):\n\u001b[1;32m   4181\u001b[0m         \u001b[38;5;66;03m# broadcast across multiple columns if necessary\u001b[39;00m\n\u001b[1;32m   4182\u001b[0m         \u001b[38;5;28;01mif\u001b[39;00m \u001b[38;5;129;01mnot\u001b[39;00m \u001b[38;5;28mself\u001b[39m\u001b[38;5;241m.\u001b[39mcolumns\u001b[38;5;241m.\u001b[39mis_unique \u001b[38;5;129;01mor\u001b[39;00m \u001b[38;5;28misinstance\u001b[39m(\u001b[38;5;28mself\u001b[39m\u001b[38;5;241m.\u001b[39mcolumns, MultiIndex):\n",
      "File \u001b[0;32m~/miniconda3/lib/python3.10/site-packages/pandas/core/frame.py:4915\u001b[0m, in \u001b[0;36mDataFrame._sanitize_column\u001b[0;34m(self, value)\u001b[0m\n\u001b[1;32m   4912\u001b[0m     \u001b[38;5;28;01mreturn\u001b[39;00m _reindex_for_setitem(Series(value), \u001b[38;5;28mself\u001b[39m\u001b[38;5;241m.\u001b[39mindex)\n\u001b[1;32m   4914\u001b[0m \u001b[38;5;28;01mif\u001b[39;00m is_list_like(value):\n\u001b[0;32m-> 4915\u001b[0m     \u001b[43mcom\u001b[49m\u001b[38;5;241;43m.\u001b[39;49m\u001b[43mrequire_length_match\u001b[49m\u001b[43m(\u001b[49m\u001b[43mvalue\u001b[49m\u001b[43m,\u001b[49m\u001b[43m \u001b[49m\u001b[38;5;28;43mself\u001b[39;49m\u001b[38;5;241;43m.\u001b[39;49m\u001b[43mindex\u001b[49m\u001b[43m)\u001b[49m\n\u001b[1;32m   4916\u001b[0m \u001b[38;5;28;01mreturn\u001b[39;00m sanitize_array(value, \u001b[38;5;28mself\u001b[39m\u001b[38;5;241m.\u001b[39mindex, copy\u001b[38;5;241m=\u001b[39m\u001b[38;5;28;01mTrue\u001b[39;00m, allow_2d\u001b[38;5;241m=\u001b[39m\u001b[38;5;28;01mTrue\u001b[39;00m)\n",
      "File \u001b[0;32m~/miniconda3/lib/python3.10/site-packages/pandas/core/common.py:571\u001b[0m, in \u001b[0;36mrequire_length_match\u001b[0;34m(data, index)\u001b[0m\n\u001b[1;32m    567\u001b[0m \u001b[38;5;250m\u001b[39m\u001b[38;5;124;03m\"\"\"\u001b[39;00m\n\u001b[1;32m    568\u001b[0m \u001b[38;5;124;03mCheck the length of data matches the length of the index.\u001b[39;00m\n\u001b[1;32m    569\u001b[0m \u001b[38;5;124;03m\"\"\"\u001b[39;00m\n\u001b[1;32m    570\u001b[0m \u001b[38;5;28;01mif\u001b[39;00m \u001b[38;5;28mlen\u001b[39m(data) \u001b[38;5;241m!=\u001b[39m \u001b[38;5;28mlen\u001b[39m(index):\n\u001b[0;32m--> 571\u001b[0m     \u001b[38;5;28;01mraise\u001b[39;00m \u001b[38;5;167;01mValueError\u001b[39;00m(\n\u001b[1;32m    572\u001b[0m         \u001b[38;5;124m\"\u001b[39m\u001b[38;5;124mLength of values \u001b[39m\u001b[38;5;124m\"\u001b[39m\n\u001b[1;32m    573\u001b[0m         \u001b[38;5;124mf\u001b[39m\u001b[38;5;124m\"\u001b[39m\u001b[38;5;124m(\u001b[39m\u001b[38;5;132;01m{\u001b[39;00m\u001b[38;5;28mlen\u001b[39m(data)\u001b[38;5;132;01m}\u001b[39;00m\u001b[38;5;124m) \u001b[39m\u001b[38;5;124m\"\u001b[39m\n\u001b[1;32m    574\u001b[0m         \u001b[38;5;124m\"\u001b[39m\u001b[38;5;124mdoes not match length of index \u001b[39m\u001b[38;5;124m\"\u001b[39m\n\u001b[1;32m    575\u001b[0m         \u001b[38;5;124mf\u001b[39m\u001b[38;5;124m\"\u001b[39m\u001b[38;5;124m(\u001b[39m\u001b[38;5;132;01m{\u001b[39;00m\u001b[38;5;28mlen\u001b[39m(index)\u001b[38;5;132;01m}\u001b[39;00m\u001b[38;5;124m)\u001b[39m\u001b[38;5;124m\"\u001b[39m\n\u001b[1;32m    576\u001b[0m     )\n",
      "\u001b[0;31mValueError\u001b[0m: Length of values (3417) does not match length of index (2560)"
     ]
    }
   ],
   "source": [
    "train_results_df = pd.DataFrame(columns = ['ht_pts_diff', 'ht_vegas_line', 'model_pred'])\n",
    "train_results_df['ht_pts_diff'] = df['ht_pts_diff'][:2560]\n",
    "train_results_df['ht_vegas_line'] = df['ht_vegas_line'][:2560]\n",
    "train_results_df = train_results_df.reset_index(drop = True)\n",
    "train_results_df['model_pred'] = train_results.tolist()"
   ]
  },
  {
   "cell_type": "code",
   "execution_count": 14,
   "id": "df450382",
   "metadata": {},
   "outputs": [],
   "source": [
    "results_df.to_csv('results/lin_reg_huber_loss_results.csv')"
   ]
  },
  {
   "cell_type": "markdown",
   "id": "6eccff2b",
   "metadata": {},
   "source": [
    "*************************************************************\n",
    "**The following are the results of the model on Training Data:**\n",
    "*************************************************************"
   ]
  },
  {
   "cell_type": "code",
   "execution_count": 15,
   "id": "d55ffb6a",
   "metadata": {
    "scrolled": true
   },
   "outputs": [
    {
     "name": "stdout",
     "output_type": "stream",
     "text": [
      "Total Number of Games:\n",
      " 2560\n",
      "Winning Bets Count:\n",
      " 1567\n",
      "No Bet Placed Count:\n",
      " 103\n",
      "Winning Percentage:\n",
      " 0.6378\n",
      "______________________________________\n",
      "Winner Correctly Predicted Count:\n",
      " 1834\n",
      "Accuracy in Classifaction:\n",
      " 0.7164\n",
      "______________________________________\n",
      "Mean Squared Error of Results:\n",
      " 141.7075\n",
      "Root Mean Squared Error of Results:\n",
      " 11.9041\n"
     ]
    }
   ],
   "source": [
    "process_results(train_results_df)"
   ]
  },
  {
   "cell_type": "markdown",
   "id": "75517f56",
   "metadata": {},
   "source": [
    "*************************************************************\n",
    "**The following are the results of the model on Testing Data:**\n",
    "*************************************************************"
   ]
  },
  {
   "cell_type": "code",
   "execution_count": 16,
   "id": "8905b539",
   "metadata": {
    "scrolled": false
   },
   "outputs": [
    {
     "name": "stdout",
     "output_type": "stream",
     "text": [
      "Total Number of Games:\n",
      " 799\n",
      "Winning Bets Count:\n",
      " 487\n",
      "No Bet Placed Count:\n",
      " 28\n",
      "Winning Percentage:\n",
      " 0.6316\n",
      "______________________________________\n",
      "Winner Correctly Predicted Count:\n",
      " 552\n",
      "Accuracy in Classifaction:\n",
      " 0.6909\n",
      "______________________________________\n",
      "Mean Squared Error of Results:\n",
      " 139.6670\n",
      "Root Mean Squared Error of Results:\n",
      " 11.8181\n"
     ]
    }
   ],
   "source": [
    "process_results(results_df)"
   ]
  },
  {
   "cell_type": "code",
   "execution_count": 16,
   "id": "2e3a7d11",
   "metadata": {},
   "outputs": [],
   "source": [
    "year = '2023'\n",
    "week = '9'"
   ]
  },
  {
   "cell_type": "code",
   "execution_count": 17,
   "id": "ce035acb",
   "metadata": {
    "scrolled": true
   },
   "outputs": [],
   "source": [
    "df_wkly = pd.read_csv('stats_' + year + '_week_' + week + '.csv', index_col=[0])\n",
    "final_wkly = pd.read_csv('games_' + year + '_week_' + week +'.csv', index_col=[0])\n",
    "model_lines = np.array([])"
   ]
  },
  {
   "cell_type": "code",
   "execution_count": 18,
   "id": "3a694323",
   "metadata": {},
   "outputs": [
    {
     "data": {
      "text/html": [
       "<div>\n",
       "<style scoped>\n",
       "    .dataframe tbody tr th:only-of-type {\n",
       "        vertical-align: middle;\n",
       "    }\n",
       "\n",
       "    .dataframe tbody tr th {\n",
       "        vertical-align: top;\n",
       "    }\n",
       "\n",
       "    .dataframe thead th {\n",
       "        text-align: right;\n",
       "    }\n",
       "</style>\n",
       "<table border=\"1\" class=\"dataframe\">\n",
       "  <thead>\n",
       "    <tr style=\"text-align: right;\">\n",
       "      <th></th>\n",
       "      <th>home_team</th>\n",
       "      <th>away_team</th>\n",
       "      <th>ht_points_for</th>\n",
       "      <th>ht_yards</th>\n",
       "      <th>ht_plays</th>\n",
       "      <th>ht_yards_per_play</th>\n",
       "      <th>ht_turnovers</th>\n",
       "      <th>ht_fumbles_lost</th>\n",
       "      <th>ht_first_downs</th>\n",
       "      <th>ht_completions</th>\n",
       "      <th>...</th>\n",
       "      <th>ht_red_zone_td_percentage</th>\n",
       "      <th>at_3D_attempts</th>\n",
       "      <th>at_3D_conversions</th>\n",
       "      <th>at_3D_conversion_percentage</th>\n",
       "      <th>at_4D_attempts</th>\n",
       "      <th>at_4D_conversions</th>\n",
       "      <th>at_4D_conversion_percentage</th>\n",
       "      <th>at_red_zone_attempts</th>\n",
       "      <th>at_red_zone_tds</th>\n",
       "      <th>at_red_zone_td_percentage</th>\n",
       "    </tr>\n",
       "  </thead>\n",
       "  <tbody>\n",
       "    <tr>\n",
       "      <th>0</th>\n",
       "      <td>kan</td>\n",
       "      <td>den</td>\n",
       "      <td>154.5</td>\n",
       "      <td>2079.0</td>\n",
       "      <td>327.5</td>\n",
       "      <td>6.40</td>\n",
       "      <td>6.5</td>\n",
       "      <td>2.0</td>\n",
       "      <td>117.0</td>\n",
       "      <td>122.5</td>\n",
       "      <td>...</td>\n",
       "      <td>62.55</td>\n",
       "      <td>60.5</td>\n",
       "      <td>22.5</td>\n",
       "      <td>37.35</td>\n",
       "      <td>7.5</td>\n",
       "      <td>4.0</td>\n",
       "      <td>58.35</td>\n",
       "      <td>16.5</td>\n",
       "      <td>8.5</td>\n",
       "      <td>51.15</td>\n",
       "    </tr>\n",
       "    <tr>\n",
       "      <th>1</th>\n",
       "      <td>oti</td>\n",
       "      <td>rav</td>\n",
       "      <td>81.5</td>\n",
       "      <td>1400.0</td>\n",
       "      <td>315.0</td>\n",
       "      <td>4.50</td>\n",
       "      <td>5.5</td>\n",
       "      <td>1.0</td>\n",
       "      <td>86.0</td>\n",
       "      <td>105.0</td>\n",
       "      <td>...</td>\n",
       "      <td>30.15</td>\n",
       "      <td>68.0</td>\n",
       "      <td>28.5</td>\n",
       "      <td>41.80</td>\n",
       "      <td>5.0</td>\n",
       "      <td>2.5</td>\n",
       "      <td>45.85</td>\n",
       "      <td>17.5</td>\n",
       "      <td>9.5</td>\n",
       "      <td>53.75</td>\n",
       "    </tr>\n",
       "    <tr>\n",
       "      <th>2</th>\n",
       "      <td>mia</td>\n",
       "      <td>car</td>\n",
       "      <td>162.5</td>\n",
       "      <td>2098.5</td>\n",
       "      <td>303.0</td>\n",
       "      <td>6.90</td>\n",
       "      <td>6.0</td>\n",
       "      <td>1.5</td>\n",
       "      <td>112.0</td>\n",
       "      <td>106.5</td>\n",
       "      <td>...</td>\n",
       "      <td>72.30</td>\n",
       "      <td>70.0</td>\n",
       "      <td>29.0</td>\n",
       "      <td>41.40</td>\n",
       "      <td>7.0</td>\n",
       "      <td>3.0</td>\n",
       "      <td>41.65</td>\n",
       "      <td>16.0</td>\n",
       "      <td>9.5</td>\n",
       "      <td>58.50</td>\n",
       "    </tr>\n",
       "    <tr>\n",
       "      <th>3</th>\n",
       "      <td>jax</td>\n",
       "      <td>clt</td>\n",
       "      <td>110.0</td>\n",
       "      <td>1850.5</td>\n",
       "      <td>352.0</td>\n",
       "      <td>5.25</td>\n",
       "      <td>7.0</td>\n",
       "      <td>4.5</td>\n",
       "      <td>107.5</td>\n",
       "      <td>125.0</td>\n",
       "      <td>...</td>\n",
       "      <td>51.25</td>\n",
       "      <td>66.5</td>\n",
       "      <td>26.5</td>\n",
       "      <td>39.85</td>\n",
       "      <td>8.5</td>\n",
       "      <td>2.5</td>\n",
       "      <td>29.85</td>\n",
       "      <td>16.5</td>\n",
       "      <td>9.0</td>\n",
       "      <td>54.60</td>\n",
       "    </tr>\n",
       "    <tr>\n",
       "      <th>4</th>\n",
       "      <td>chi</td>\n",
       "      <td>min</td>\n",
       "      <td>118.5</td>\n",
       "      <td>1692.0</td>\n",
       "      <td>322.5</td>\n",
       "      <td>5.30</td>\n",
       "      <td>5.5</td>\n",
       "      <td>2.5</td>\n",
       "      <td>98.0</td>\n",
       "      <td>115.0</td>\n",
       "      <td>...</td>\n",
       "      <td>63.15</td>\n",
       "      <td>64.0</td>\n",
       "      <td>31.0</td>\n",
       "      <td>47.85</td>\n",
       "      <td>7.5</td>\n",
       "      <td>5.0</td>\n",
       "      <td>61.35</td>\n",
       "      <td>17.0</td>\n",
       "      <td>11.0</td>\n",
       "      <td>63.90</td>\n",
       "    </tr>\n",
       "  </tbody>\n",
       "</table>\n",
       "<p>5 rows × 70 columns</p>\n",
       "</div>"
      ],
      "text/plain": [
       "  home_team away_team  ht_points_for  ht_yards  ht_plays  ht_yards_per_play  \\\n",
       "0       kan       den          154.5    2079.0     327.5               6.40   \n",
       "1       oti       rav           81.5    1400.0     315.0               4.50   \n",
       "2       mia       car          162.5    2098.5     303.0               6.90   \n",
       "3       jax       clt          110.0    1850.5     352.0               5.25   \n",
       "4       chi       min          118.5    1692.0     322.5               5.30   \n",
       "\n",
       "   ht_turnovers  ht_fumbles_lost  ht_first_downs  ht_completions  ...  \\\n",
       "0           6.5              2.0           117.0           122.5  ...   \n",
       "1           5.5              1.0            86.0           105.0  ...   \n",
       "2           6.0              1.5           112.0           106.5  ...   \n",
       "3           7.0              4.5           107.5           125.0  ...   \n",
       "4           5.5              2.5            98.0           115.0  ...   \n",
       "\n",
       "   ht_red_zone_td_percentage  at_3D_attempts  at_3D_conversions  \\\n",
       "0                      62.55            60.5               22.5   \n",
       "1                      30.15            68.0               28.5   \n",
       "2                      72.30            70.0               29.0   \n",
       "3                      51.25            66.5               26.5   \n",
       "4                      63.15            64.0               31.0   \n",
       "\n",
       "   at_3D_conversion_percentage  at_4D_attempts  at_4D_conversions  \\\n",
       "0                        37.35             7.5                4.0   \n",
       "1                        41.80             5.0                2.5   \n",
       "2                        41.40             7.0                3.0   \n",
       "3                        39.85             8.5                2.5   \n",
       "4                        47.85             7.5                5.0   \n",
       "\n",
       "   at_4D_conversion_percentage  at_red_zone_attempts  at_red_zone_tds  \\\n",
       "0                        58.35                  16.5              8.5   \n",
       "1                        45.85                  17.5              9.5   \n",
       "2                        41.65                  16.0              9.5   \n",
       "3                        29.85                  16.5              9.0   \n",
       "4                        61.35                  17.0             11.0   \n",
       "\n",
       "   at_red_zone_td_percentage  \n",
       "0                      51.15  \n",
       "1                      53.75  \n",
       "2                      58.50  \n",
       "3                      54.60  \n",
       "4                      63.90  \n",
       "\n",
       "[5 rows x 70 columns]"
      ]
     },
     "execution_count": 18,
     "metadata": {},
     "output_type": "execute_result"
    }
   ],
   "source": [
    "df_wkly.head()"
   ]
  },
  {
   "cell_type": "code",
   "execution_count": 19,
   "id": "2e53b354",
   "metadata": {},
   "outputs": [],
   "source": [
    "X = df_wkly.values[:, 2:]\n",
    "X_scaled = scaler.transform(X)\n",
    "for each in X_scaled:\n",
    "    line = model_r.predict([each])\n",
    "    model_lines = np.append(model_lines, [line])"
   ]
  },
  {
   "cell_type": "code",
   "execution_count": 20,
   "id": "1584eb40",
   "metadata": {},
   "outputs": [],
   "source": [
    "final_wkly['ht_point_differential'] = model_lines\n",
    "final_wkly.to_csv('games_'+ year + '_week_' + week +'.csv')"
   ]
  },
  {
   "cell_type": "code",
   "execution_count": null,
   "id": "1bae3454",
   "metadata": {},
   "outputs": [],
   "source": []
  }
 ],
 "metadata": {
  "kernelspec": {
   "display_name": "Python 3 (ipykernel)",
   "language": "python",
   "name": "python3"
  },
  "language_info": {
   "codemirror_mode": {
    "name": "ipython",
    "version": 3
   },
   "file_extension": ".py",
   "mimetype": "text/x-python",
   "name": "python",
   "nbconvert_exporter": "python",
   "pygments_lexer": "ipython3",
   "version": "3.10.9"
  }
 },
 "nbformat": 4,
 "nbformat_minor": 5
}
