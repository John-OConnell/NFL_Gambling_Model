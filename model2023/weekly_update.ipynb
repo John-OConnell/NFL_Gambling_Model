{
 "cells": [
  {
   "cell_type": "code",
   "execution_count": 5,
   "id": "79c36662",
   "metadata": {},
   "outputs": [],
   "source": [
    "from bs4 import BeautifulSoup\n",
    "import numpy as np\n",
    "import pandas as pd\n",
    "import requests\n",
    "import time\n",
    "from vardata import years, team_abbr, columns, teams_idx\n",
    "from results_processor import *\n",
    "from vardata import teams\n",
    "\n",
    "year = '2023'\n",
    "week = '10'\n",
    "url = 'https://www.pro-football-reference.com'\n",
    "stats = pd.read_csv('stats/' + year + '/' + 'stats_'+ year + '_week_' + week + '.csv', index_col=[0])\n",
    "games = pd.read_csv('stats/' + year + '/' + 'games_'+ year + '_week_' + week + '.csv', index_col=[0])\n"
   ]
  },
  {
   "cell_type": "code",
   "execution_count": 6,
   "id": "e59e7ec4",
   "metadata": {},
   "outputs": [],
   "source": [
    "final_data = pd.read_csv('stats/final_data.csv', index_col=[0])"
   ]
  },
  {
   "cell_type": "code",
   "execution_count": 7,
   "id": "aa3b7acc",
   "metadata": {},
   "outputs": [],
   "source": [
    "def scrape_games(year, week):\n",
    "    \n",
    "    # use beautiful soup to return the html of the webpage\n",
    "    r = requests.get(url + '/years/'+ year + '/games.htm')\n",
    "    soup = BeautifulSoup(r.content, 'html.parser')\n",
    "    \n",
    "    # grab the game results table from the webpage\n",
    "    game_stats = soup.find_all('table')[0]\n",
    "\n",
    "    # collect table rows\n",
    "    stat_rows = game_stats.findAll('tr')\n",
    "    \n",
    "    # initalize \n",
    "    results = []\n",
    "    n = 0\n",
    "    \n",
    "    # looping through the table rows to collect data\n",
    "    for i in range(len(stat_rows)):\n",
    "        if n >= 19:\n",
    "            wait = random.randint(65, 120)\n",
    "            time.sleep(wait)\n",
    "            n = 0\n",
    "            \n",
    "        if stat_rows[i].find('th').getText() != week:\n",
    "            continue\n",
    "\n",
    "        row = []\n",
    "        row.extend([col.getText() for col in stat_rows[i].findAll('td')])\n",
    "        \n",
    "        # handling home / away team info being in different locations for each row\n",
    "        if row[4] != '@':\n",
    "            home_team = teams[row[3]]\n",
    "            away_team = teams[row[5]]\n",
    "            ht_score = int(row[7])\n",
    "            at_score = int(row[8])\n",
    "            total_points = ht_score + at_score\n",
    "            ht_pts_diff = ht_score - at_score\n",
    "\n",
    "        else:\n",
    "            home_team = teams[row[5]]\n",
    "            away_team = teams[row[3]]\n",
    "            ht_score = int(row[8])\n",
    "            at_score = int(row[7])\n",
    "            total_points = ht_score + at_score\n",
    "            ht_pts_diff = ht_score - at_score\n",
    "\n",
    "        # appending necessary info to results array\n",
    "        results.append([home_team, away_team, ht_score, at_score, total_points,\n",
    "                        ht_pts_diff])\n",
    "\n",
    "        n += 1\n",
    "            \n",
    "    return results"
   ]
  },
  {
   "cell_type": "code",
   "execution_count": 8,
   "id": "5df5b2fe",
   "metadata": {},
   "outputs": [],
   "source": [
    "results = scrape_games(year, week)"
   ]
  },
  {
   "cell_type": "code",
   "execution_count": 9,
   "id": "62f25319",
   "metadata": {},
   "outputs": [],
   "source": [
    "results = pd.DataFrame(results, columns = ['home_team', 'away_team', 'ht_score',\n",
    "                                          'at_score', 'total_points', 'ht_pts_diff'])"
   ]
  },
  {
   "cell_type": "code",
   "execution_count": 10,
   "id": "c0f58d13",
   "metadata": {},
   "outputs": [],
   "source": [
    "stats['ht_score'] = results['ht_score']\n",
    "stats['at_score'] = results['at_score']\n",
    "stats['total_points'] = results['total_points']\n",
    "stats['ht_pts_diff'] = results['ht_pts_diff']\n",
    "stats['ht_vegas_line'] = games['ht_vegas_line']"
   ]
  },
  {
   "cell_type": "code",
   "execution_count": 11,
   "id": "7d6d1400",
   "metadata": {},
   "outputs": [],
   "source": [
    "games['ht_pts_diff'] = results['ht_pts_diff']\n",
    "games = games.rename(columns={\"ht_point_differential\": \"model_pred\"})"
   ]
  },
  {
   "cell_type": "code",
   "execution_count": 12,
   "id": "555b697e",
   "metadata": {
    "scrolled": true
   },
   "outputs": [
    {
     "data": {
      "text/html": [
       "<div>\n",
       "<style scoped>\n",
       "    .dataframe tbody tr th:only-of-type {\n",
       "        vertical-align: middle;\n",
       "    }\n",
       "\n",
       "    .dataframe tbody tr th {\n",
       "        vertical-align: top;\n",
       "    }\n",
       "\n",
       "    .dataframe thead th {\n",
       "        text-align: right;\n",
       "    }\n",
       "</style>\n",
       "<table border=\"1\" class=\"dataframe\">\n",
       "  <thead>\n",
       "    <tr style=\"text-align: right;\">\n",
       "      <th></th>\n",
       "      <th>home_team</th>\n",
       "      <th>away_team</th>\n",
       "      <th>ht_vegas_line</th>\n",
       "      <th>model_pred</th>\n",
       "      <th>ht_pts_diff</th>\n",
       "    </tr>\n",
       "  </thead>\n",
       "  <tbody>\n",
       "    <tr>\n",
       "      <th>0</th>\n",
       "      <td>chi</td>\n",
       "      <td>car</td>\n",
       "      <td>-3.0</td>\n",
       "      <td>6.207019</td>\n",
       "      <td>3</td>\n",
       "    </tr>\n",
       "    <tr>\n",
       "      <th>1</th>\n",
       "      <td>nwe</td>\n",
       "      <td>clt</td>\n",
       "      <td>2.0</td>\n",
       "      <td>-1.655258</td>\n",
       "      <td>-4</td>\n",
       "    </tr>\n",
       "    <tr>\n",
       "      <th>2</th>\n",
       "      <td>rav</td>\n",
       "      <td>cle</td>\n",
       "      <td>-6.0</td>\n",
       "      <td>8.075488</td>\n",
       "      <td>-3</td>\n",
       "    </tr>\n",
       "    <tr>\n",
       "      <th>3</th>\n",
       "      <td>pit</td>\n",
       "      <td>gnb</td>\n",
       "      <td>-4.0</td>\n",
       "      <td>3.300674</td>\n",
       "      <td>-2</td>\n",
       "    </tr>\n",
       "    <tr>\n",
       "      <th>4</th>\n",
       "      <td>cin</td>\n",
       "      <td>htx</td>\n",
       "      <td>-7.0</td>\n",
       "      <td>2.513752</td>\n",
       "      <td>4</td>\n",
       "    </tr>\n",
       "  </tbody>\n",
       "</table>\n",
       "</div>"
      ],
      "text/plain": [
       "  home_team away_team  ht_vegas_line  model_pred  ht_pts_diff\n",
       "0       chi       car           -3.0    6.207019            3\n",
       "1       nwe       clt            2.0   -1.655258           -4\n",
       "2       rav       cle           -6.0    8.075488           -3\n",
       "3       pit       gnb           -4.0    3.300674           -2\n",
       "4       cin       htx           -7.0    2.513752            4"
      ]
     },
     "execution_count": 12,
     "metadata": {},
     "output_type": "execute_result"
    }
   ],
   "source": [
    "games.head()"
   ]
  },
  {
   "cell_type": "code",
   "execution_count": 13,
   "id": "8bc50456",
   "metadata": {
    "scrolled": false
   },
   "outputs": [
    {
     "name": "stdout",
     "output_type": "stream",
     "text": [
      "Vegas Line:  -4.0 , model pred:  -3 , final pts diff:  -2\n",
      "Vegas Line:  -7.0 , model pred:  -3 , final pts diff:  4\n",
      "Vegas Line:  0.0 , model pred:  -1 , final pts diff:  14\n",
      "Vegas Line:  3.0 , model pred:  -2 , final pts diff:  8\n",
      "Vegas Line:  3.0 , model pred:  0 , final pts diff:  2\n",
      "Vegas Line:  -6.0 , model pred:  -4 , final pts diff:  3\n",
      "Vegas Line:  -1.0 , model pred:  -4 , final pts diff:  4\n",
      "Total Number of Games:\n",
      " 14\n",
      "Winning Bets Count:\n",
      " 7\n",
      "No Bet Placed Count:\n",
      " 2\n",
      "Winning Percentage:\n",
      " 0.5833\n",
      "______________________________________\n",
      "Winner Correctly Predicted Count:\n",
      " 9\n",
      "Accuracy in Classifaction:\n",
      " 0.6429\n",
      "______________________________________\n",
      "Mean Squared Error of Results:\n",
      " 145.6608\n",
      "Root Mean Squared Error of Results:\n",
      " 12.0690\n"
     ]
    }
   ],
   "source": [
    "process_results(games)"
   ]
  },
  {
   "cell_type": "code",
   "execution_count": 14,
   "id": "96a73e4c",
   "metadata": {
    "scrolled": true
   },
   "outputs": [
    {
     "name": "stderr",
     "output_type": "stream",
     "text": [
      "/var/folders/jw/95zp9jr92y72x0m_9wppzqmw0000gn/T/ipykernel_71462/1502454349.py:1: FutureWarning: The frame.append method is deprecated and will be removed from pandas in a future version. Use pandas.concat instead.\n",
      "  final_data = final_data.append(stats, ignore_index=True)\n"
     ]
    }
   ],
   "source": [
    "final_data = final_data.append(stats, ignore_index=True)"
   ]
  },
  {
   "cell_type": "code",
   "execution_count": 15,
   "id": "9f135ee7",
   "metadata": {},
   "outputs": [],
   "source": [
    "games.to_csv('stats/' + year + '/' + 'games_'+ year + '_week_' + week + '.csv')\n",
    "stats.to_csv('stats/' + year + '/' + 'stats_' + year + '_week_' + week + '.csv')\n",
    "final_data.to_csv('stats/final_data.csv')"
   ]
  },
  {
   "cell_type": "code",
   "execution_count": null,
   "id": "e53a91d0",
   "metadata": {},
   "outputs": [],
   "source": []
  }
 ],
 "metadata": {
  "kernelspec": {
   "display_name": "Python 3 (ipykernel)",
   "language": "python",
   "name": "python3"
  },
  "language_info": {
   "codemirror_mode": {
    "name": "ipython",
    "version": 3
   },
   "file_extension": ".py",
   "mimetype": "text/x-python",
   "name": "python",
   "nbconvert_exporter": "python",
   "pygments_lexer": "ipython3",
   "version": "3.10.9"
  }
 },
 "nbformat": 4,
 "nbformat_minor": 5
}
