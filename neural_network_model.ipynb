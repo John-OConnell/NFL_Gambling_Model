{
 "cells": [
  {
   "cell_type": "code",
   "execution_count": 1,
   "id": "1d8d05c3",
   "metadata": {},
   "outputs": [],
   "source": [
    "import numpy as np\n",
    "import pandas as pd\n",
    "import torch\n",
    "import torch.nn as nn\n",
    "from torch.utils.data import Dataset, DataLoader\n",
    "import matplotlib.pyplot as plt\n",
    "import copy\n",
    "from sklearn import preprocessing\n",
    "from vardata import years, team_abbr, columns, teams_idx\n",
    "from results_processor import *"
   ]
  },
  {
   "cell_type": "code",
   "execution_count": 2,
   "id": "73d55163",
   "metadata": {},
   "outputs": [],
   "source": [
    "# read in data csv to df\n",
    "df = pd.read_csv('stats/final_data.csv', index_col=[0])"
   ]
  },
  {
   "cell_type": "code",
   "execution_count": 3,
   "id": "ad7fe350",
   "metadata": {
    "scrolled": true
   },
   "outputs": [
    {
     "name": "stdout",
     "output_type": "stream",
     "text": [
      "Dimension of dataset=  (3359, 75)\n"
     ]
    },
    {
     "data": {
      "text/html": [
       "<div>\n",
       "<style scoped>\n",
       "    .dataframe tbody tr th:only-of-type {\n",
       "        vertical-align: middle;\n",
       "    }\n",
       "\n",
       "    .dataframe tbody tr th {\n",
       "        vertical-align: top;\n",
       "    }\n",
       "\n",
       "    .dataframe thead th {\n",
       "        text-align: right;\n",
       "    }\n",
       "</style>\n",
       "<table border=\"1\" class=\"dataframe\">\n",
       "  <thead>\n",
       "    <tr style=\"text-align: right;\">\n",
       "      <th></th>\n",
       "      <th>home_team</th>\n",
       "      <th>away_team</th>\n",
       "      <th>ht_points_for</th>\n",
       "      <th>ht_yards</th>\n",
       "      <th>ht_plays</th>\n",
       "      <th>ht_yards_per_play</th>\n",
       "      <th>ht_turnovers</th>\n",
       "      <th>ht_fumbles_lost</th>\n",
       "      <th>ht_first_downs</th>\n",
       "      <th>ht_completions</th>\n",
       "      <th>...</th>\n",
       "      <th>at_4D_conversions</th>\n",
       "      <th>at_4D_conversion_percentage</th>\n",
       "      <th>at_red_zone_attempts</th>\n",
       "      <th>at_red_zone_tds</th>\n",
       "      <th>at_red_zone_td_percentage</th>\n",
       "      <th>ht_score</th>\n",
       "      <th>at_score</th>\n",
       "      <th>total_points</th>\n",
       "      <th>ht_pts_diff</th>\n",
       "      <th>ht_vegas_line</th>\n",
       "    </tr>\n",
       "  </thead>\n",
       "  <tbody>\n",
       "    <tr>\n",
       "      <th>0</th>\n",
       "      <td>nor</td>\n",
       "      <td>min</td>\n",
       "      <td>366.0</td>\n",
       "      <td>5481.0</td>\n",
       "      <td>1022.0</td>\n",
       "      <td>5.35</td>\n",
       "      <td>28.5</td>\n",
       "      <td>10.0</td>\n",
       "      <td>313.5</td>\n",
       "      <td>391.5</td>\n",
       "      <td>...</td>\n",
       "      <td>11.5</td>\n",
       "      <td>56.15</td>\n",
       "      <td>45.5</td>\n",
       "      <td>20.0</td>\n",
       "      <td>43.95</td>\n",
       "      <td>14</td>\n",
       "      <td>9</td>\n",
       "      <td>23</td>\n",
       "      <td>5</td>\n",
       "      <td>-5.0</td>\n",
       "    </tr>\n",
       "    <tr>\n",
       "      <th>1</th>\n",
       "      <td>pit</td>\n",
       "      <td>atl</td>\n",
       "      <td>331.5</td>\n",
       "      <td>5422.0</td>\n",
       "      <td>975.0</td>\n",
       "      <td>5.60</td>\n",
       "      <td>24.5</td>\n",
       "      <td>9.0</td>\n",
       "      <td>289.5</td>\n",
       "      <td>331.0</td>\n",
       "      <td>...</td>\n",
       "      <td>10.5</td>\n",
       "      <td>67.90</td>\n",
       "      <td>49.0</td>\n",
       "      <td>25.5</td>\n",
       "      <td>50.15</td>\n",
       "      <td>15</td>\n",
       "      <td>9</td>\n",
       "      <td>24</td>\n",
       "      <td>6</td>\n",
       "      <td>1.5</td>\n",
       "    </tr>\n",
       "    <tr>\n",
       "      <th>2</th>\n",
       "      <td>buf</td>\n",
       "      <td>mia</td>\n",
       "      <td>308.0</td>\n",
       "      <td>4913.5</td>\n",
       "      <td>971.0</td>\n",
       "      <td>5.05</td>\n",
       "      <td>29.0</td>\n",
       "      <td>13.0</td>\n",
       "      <td>263.5</td>\n",
       "      <td>292.0</td>\n",
       "      <td>...</td>\n",
       "      <td>5.0</td>\n",
       "      <td>50.00</td>\n",
       "      <td>44.0</td>\n",
       "      <td>25.5</td>\n",
       "      <td>57.00</td>\n",
       "      <td>10</td>\n",
       "      <td>15</td>\n",
       "      <td>25</td>\n",
       "      <td>-5</td>\n",
       "      <td>3.0</td>\n",
       "    </tr>\n",
       "    <tr>\n",
       "      <th>3</th>\n",
       "      <td>chi</td>\n",
       "      <td>det</td>\n",
       "      <td>351.5</td>\n",
       "      <td>5064.0</td>\n",
       "      <td>970.5</td>\n",
       "      <td>5.20</td>\n",
       "      <td>30.0</td>\n",
       "      <td>12.5</td>\n",
       "      <td>291.5</td>\n",
       "      <td>303.0</td>\n",
       "      <td>...</td>\n",
       "      <td>8.0</td>\n",
       "      <td>54.35</td>\n",
       "      <td>43.5</td>\n",
       "      <td>24.5</td>\n",
       "      <td>56.00</td>\n",
       "      <td>19</td>\n",
       "      <td>14</td>\n",
       "      <td>33</td>\n",
       "      <td>5</td>\n",
       "      <td>-6.5</td>\n",
       "    </tr>\n",
       "    <tr>\n",
       "      <th>4</th>\n",
       "      <td>nwe</td>\n",
       "      <td>cin</td>\n",
       "      <td>456.5</td>\n",
       "      <td>5566.0</td>\n",
       "      <td>971.5</td>\n",
       "      <td>5.75</td>\n",
       "      <td>18.0</td>\n",
       "      <td>7.5</td>\n",
       "      <td>312.5</td>\n",
       "      <td>328.5</td>\n",
       "      <td>...</td>\n",
       "      <td>12.5</td>\n",
       "      <td>64.20</td>\n",
       "      <td>52.5</td>\n",
       "      <td>27.0</td>\n",
       "      <td>51.55</td>\n",
       "      <td>38</td>\n",
       "      <td>24</td>\n",
       "      <td>62</td>\n",
       "      <td>14</td>\n",
       "      <td>-5.5</td>\n",
       "    </tr>\n",
       "  </tbody>\n",
       "</table>\n",
       "<p>5 rows × 75 columns</p>\n",
       "</div>"
      ],
      "text/plain": [
       "  home_team away_team  ht_points_for  ht_yards  ht_plays  ht_yards_per_play  \\\n",
       "0       nor       min          366.0    5481.0    1022.0               5.35   \n",
       "1       pit       atl          331.5    5422.0     975.0               5.60   \n",
       "2       buf       mia          308.0    4913.5     971.0               5.05   \n",
       "3       chi       det          351.5    5064.0     970.5               5.20   \n",
       "4       nwe       cin          456.5    5566.0     971.5               5.75   \n",
       "\n",
       "   ht_turnovers  ht_fumbles_lost  ht_first_downs  ht_completions  ...  \\\n",
       "0          28.5             10.0           313.5           391.5  ...   \n",
       "1          24.5              9.0           289.5           331.0  ...   \n",
       "2          29.0             13.0           263.5           292.0  ...   \n",
       "3          30.0             12.5           291.5           303.0  ...   \n",
       "4          18.0              7.5           312.5           328.5  ...   \n",
       "\n",
       "   at_4D_conversions  at_4D_conversion_percentage  at_red_zone_attempts  \\\n",
       "0               11.5                        56.15                  45.5   \n",
       "1               10.5                        67.90                  49.0   \n",
       "2                5.0                        50.00                  44.0   \n",
       "3                8.0                        54.35                  43.5   \n",
       "4               12.5                        64.20                  52.5   \n",
       "\n",
       "   at_red_zone_tds  at_red_zone_td_percentage  ht_score  at_score  \\\n",
       "0             20.0                      43.95        14         9   \n",
       "1             25.5                      50.15        15         9   \n",
       "2             25.5                      57.00        10        15   \n",
       "3             24.5                      56.00        19        14   \n",
       "4             27.0                      51.55        38        24   \n",
       "\n",
       "   total_points  ht_pts_diff  ht_vegas_line  \n",
       "0            23            5           -5.0  \n",
       "1            24            6            1.5  \n",
       "2            25           -5            3.0  \n",
       "3            33            5           -6.5  \n",
       "4            62           14           -5.5  \n",
       "\n",
       "[5 rows x 75 columns]"
      ]
     },
     "execution_count": 3,
     "metadata": {},
     "output_type": "execute_result"
    }
   ],
   "source": [
    "# preview the data to ensure it was read correctly\n",
    "print('Dimension of dataset= ', df.shape)\n",
    "df.head() # To get first n rows from the dataset default value of n is 5"
   ]
  },
  {
   "cell_type": "code",
   "execution_count": 4,
   "id": "f5419493",
   "metadata": {},
   "outputs": [],
   "source": [
    "X = df.values[:, 2:70]  # get input values from first two columns\n",
    "y = df.values[:, [73]]  # get output values from last coulmn\n",
    "m = len(y) # Number of training examples"
   ]
  },
  {
   "cell_type": "code",
   "execution_count": 5,
   "id": "53d72cb0",
   "metadata": {
    "scrolled": false
   },
   "outputs": [
    {
     "name": "stdout",
     "output_type": "stream",
     "text": [
      "Total no of samples (m) = 3359 \n",
      "\n",
      "X = [366.0 5481.0 1022.0 5.35 28.5 10.0 313.5 391.5 595.0 3904.0 29.0 18.5\n",
      " 6.25 207.0 398.5 1577.0 9.5 3.95 90.5 94.0 835.0 16.0 179.0 33.65 14.6\n",
      " 294.0 4969.5 965.0 5.15 31.0 13.5 281.0 305.5 499.5 3100.0 13.5 17.5\n",
      " 5.800000000000001 154.5 431.0 1869.5 14.5 4.35 99.0 94.0 735.0 27.5 181.0\n",
      " 28.35 15.85 215.0 96.5 44.8 10.5 5.0 47.75 53.5 28.5 53.65 204.0 70.5\n",
      " 34.55 20.0 11.5 56.150000000000006 45.5 20.0 43.95] , y = [5]\n",
      "X = [331.5 5422.0 975.0 5.6 24.5 9.0 289.5 331.0 519.5 3613.0 22.5 15.5 6.5\n",
      " 179.0 418.5 1809.0 12.0 4.35 96.5 108.0 953.0 14.0 179.5 31.5 12.8 323.0\n",
      " 4943.5 1035.5 4.75 26.0 11.0 312.5 362.0 585.0 3496.0 21.5 15.0 5.6 191.0\n",
      " 415.0 1447.5 9.5 3.4 86.0 72.0 657.0 35.5 178.5 32.5 13.15 209.5 86.5\n",
      " 41.2 11.0 5.5 46.45 46.0 23.5 51.4 224.5 91.0 40.1 15.5 10.5 67.9 49.0\n",
      " 25.5 50.15] , y = [6]\n",
      "X = [308.0 4913.5 971.0 5.05 29.0 13.0 263.5 292.0 510.5 3253.0 23.0 16.0 5.95\n",
      " 166.0 424.0 1660.5 7.0 3.95 83.0 83.5 681.5 14.5 181.5 28.4 14.55 349.0\n",
      " 5478.0 1055.5 5.2 26.5 10.5 317.5 314.5 515.0 3299.5 22.5 16.0 6.0 184.0\n",
      " 508.0 2178.5 13.0 4.25 114.5 78.5 614.5 19.0 188.0 34.5 13.1 218.5 82.0\n",
      " 37.55 23.0 9.5 41.099999999999994 41.0 18.5 45.7 228.5 95.0 41.6 10.0 5.0\n",
      " 50.0 44.0 25.5 57.0] , y = [-5]\n",
      "X = [351.5 5064.0 970.5 5.2 30.0 12.5 291.5 303.0 492.0 3256.5 23.0 17.5 6.0\n",
      " 175.0 428.5 1807.5 14.0 4.2 87.0 98.5 811.0 29.5 195.0 30.3 14.6 324.0\n",
      " 5226.0 1033.0 5.05 30.0 11.5 293.0 373.0 607.5 3699.0 20.0 18.5 5.8 191.0\n",
      " 395.0 1527.0 12.5 3.85 85.5 114.5 904.0 16.5 194.5 28.55 15.15 196.5 70.5\n",
      " 35.849999999999994 9.5 3.5 35.150000000000006 48.5 25.0\n",
      " 51.900000000000006 229.0 86.0 37.400000000000006 14.5 8.0 54.35 43.5 24.5\n",
      " 56.0] , y = [5]\n",
      "X = [456.5 5566.0 971.5 5.75 18.0 7.5 312.5 328.5 510.5 3658.0 29.0 10.5\n",
      " 6.800000000000001 183.0 435.0 1908.0 17.0 4.35 108.0 89.0 771.0 21.5\n",
      " 174.0 41.1 9.3 317.5 5576.5 1051.0 5.35 36.0 13.5 332.5 376.5 600.5\n",
      " 3951.5 25.5 22.5 6.25 216.0 418.5 1625.0 9.0 3.9 92.0 87.0 706.0 24.5\n",
      " 183.0 30.6 18.65 197.5 85.0 43.05 10.5 4.5 39.3 56.0 31.5 54.7 217.0 93.0\n",
      " 42.95 19.5 12.5 64.2 52.5 27.0 51.55] , y = [14]\n"
     ]
    }
   ],
   "source": [
    "# preview the data\n",
    "print('Total no of samples (m) = %s \\n' %(m))\n",
    "\n",
    "# Show only first 5 records\n",
    "for i in range(5):\n",
    "    print('X =', X[i, ], ', y =', y[i])"
   ]
  },
  {
   "cell_type": "code",
   "execution_count": 6,
   "id": "35df01e0",
   "metadata": {},
   "outputs": [],
   "source": [
    "# split data into train, validation, and test sets\n",
    "# 8 years of data for training, 2 for validation and 3 for testing\n",
    "X_train = X[:2048].astype('float32')\n",
    "X_val = X[2048:2560].astype('float32')\n",
    "X_test = X[2560:].astype('float32')\n",
    "y_train = y[:2048].astype('float32')\n",
    "y_val = y[2048:2560].astype('float32')\n",
    "y_test = y[2560:].astype('float32')"
   ]
  },
  {
   "cell_type": "code",
   "execution_count": 7,
   "id": "592d07aa",
   "metadata": {},
   "outputs": [],
   "source": [
    "# data preprocessing\n",
    "scaler = preprocessing.MinMaxScaler().fit(X_train)\n",
    "X_scaled_train = scaler.transform(X_train)\n",
    "X_scaled_val = scaler.transform(X_val)\n",
    "X_scaled_test = scaler.transform(X_test)"
   ]
  },
  {
   "cell_type": "code",
   "execution_count": 8,
   "id": "2518f26f",
   "metadata": {},
   "outputs": [],
   "source": [
    "# custom class to create datasets from given data\n",
    "class dataset(Dataset):\n",
    "  def __init__(self, input, pred):\n",
    "    self.input = torch.tensor(input,dtype=torch.float32)\n",
    "    self.pred = torch.tensor(pred,dtype=torch.long)\n",
    "    self.length = len(self.pred)\n",
    "  def __getitem__(self,idx):\n",
    "    return self.input[idx], self.pred[idx]\n",
    "  def __len__(self):\n",
    "    return self.length"
   ]
  },
  {
   "cell_type": "code",
   "execution_count": 9,
   "id": "da0d94b7",
   "metadata": {},
   "outputs": [],
   "source": [
    "# class to create feed forward neural net\n",
    "# takes as inputs input_size, hidden_size, num_layers, and desired activation function\n",
    "class NFLPredictor(nn.Module):\n",
    "    def __init__(self, input_size, hidden_size, num_layers, activation):\n",
    "        super(NFLPredictor, self).__init__()\n",
    "        self.num_layers = num_layers\n",
    "        self.activation = activation\n",
    "        # input layer\n",
    "        self.fc1 = nn.Linear(input_size, hidden_size)\n",
    "        # activation functions\n",
    "        self.tanh = nn.Tanh()\n",
    "        self.relu = nn.ReLU()\n",
    "        self.sigmoid = nn.Sigmoid()\n",
    "        # hidden layer\n",
    "        self.fc2 = nn.Linear(hidden_size, hidden_size)\n",
    "        # output layer\n",
    "        self.fc3 = nn.Linear(hidden_size, 1)\n",
    "\n",
    "    def forward(self, x):\n",
    "        # tanh activation function\n",
    "        if self.activation == 'tanh':\n",
    "            # first layer\n",
    "            out = self.fc1(x)\n",
    "            out = self.tanh(out)\n",
    "            \n",
    "            # loop through input number of layers\n",
    "            for i in range(self.num_layers - 1):\n",
    "                out = self.fc2(out)\n",
    "                out = self.tanh(out)\n",
    "            \n",
    "            out = self.fc3(out)\n",
    "            return out\n",
    "        \n",
    "        # relu activation function\n",
    "        elif self.activation == 'relu':\n",
    "            # first layer\n",
    "            out = self.fc1(x)\n",
    "            out = self.relu(out)\n",
    "            \n",
    "            # loop through input number of layers\n",
    "            for i in range(self.num_layers - 1):\n",
    "                out = self.fc2(out)\n",
    "                out = self.relu(out)\n",
    "            \n",
    "            out = self.fc3(out)\n",
    "            return out\n",
    "        \n",
    "        # sigmoid activation function\n",
    "        elif self.activation == 'sigmoid':\n",
    "            # first layer\n",
    "            out = self.fc1(x)\n",
    "            out = self.sigmoid(out)\n",
    "            \n",
    "            # loop through input number of layers\n",
    "            for i in range(self.num_layers - 1):\n",
    "                out = self.fc2(out)\n",
    "                out = self.sigmoid(out)\n",
    "            \n",
    "            out = self.fc3(out)\n",
    "            return out"
   ]
  },
  {
   "cell_type": "code",
   "execution_count": 10,
   "id": "19cf9d80",
   "metadata": {},
   "outputs": [],
   "source": [
    "# function used to train models\n",
    "# takes as input the defined model and number of epochs \n",
    "def train_model(net, num_epochs, train_loader, validation_loader):\n",
    "    best_val_loss = float('inf')\n",
    "    train_losses = []\n",
    "    val_losses= []\n",
    "    train_size = len(train_loader.dataset)\n",
    "    val_size = len(validation_loader.dataset)\n",
    "\n",
    "    for epoch in range(num_epochs):\n",
    "        net.train()\n",
    "        train_loss = 0\n",
    "        train_acc = 0\n",
    "        for batch_X, batch_y in train_loader:\n",
    "            optimizer.zero_grad()\n",
    "            outputs = net(batch_X)\n",
    "            loss = criterion(outputs, batch_y.float())\n",
    "            loss.backward()\n",
    "            optimizer.step()\n",
    "            train_loss += loss.item() * batch_X.shape[0]\n",
    "        train_loss /= train_size\n",
    "        train_losses.append(train_loss)\n",
    "\n",
    "        net.eval()\n",
    "        val_loss = 0\n",
    "        val_acc = 0\n",
    "        with torch.no_grad():\n",
    "            for batch_X, batch_y in validation_loader:\n",
    "                outputs = net(batch_X)\n",
    "                loss = criterion(outputs, batch_y)\n",
    "                val_loss += loss.item() * batch_X.shape[0]\n",
    "            val_loss /= val_size\n",
    "            val_losses.append(val_loss)\n",
    "\n",
    "            # update best validation loss and associated model if appropriate\n",
    "            if val_loss < best_val_loss:\n",
    "                best_model_state = copy.deepcopy(net.state_dict())\n",
    "                best_val_loss = val_loss\n",
    "        \n",
    "        print(f'Epoch {epoch+1}/{num_epochs}: Train Loss: {train_loss:.4f}, Train Acc: {train_acc:.4f}, Val Loss: {val_loss:.4f}, Val Acc: {val_acc:.4f}')\n",
    "        \n",
    "    return(best_model_state, train_losses, val_losses)"
   ]
  },
  {
   "cell_type": "code",
   "execution_count": 11,
   "id": "d071a508",
   "metadata": {},
   "outputs": [],
   "source": [
    "# create datasets from data\n",
    "test_set = dataset(X_scaled_test, y_test)\n",
    "train_set = dataset(X_scaled_train, y_train)\n",
    "validation_set = dataset(X_scaled_val, y_val)"
   ]
  },
  {
   "cell_type": "code",
   "execution_count": 12,
   "id": "57fe7a63",
   "metadata": {},
   "outputs": [],
   "source": [
    "# create dataloaders for each set of data\n",
    "train_loader = DataLoader(train_set, batch_size=32, shuffle=True)\n",
    "test_loader = DataLoader(test_set, shuffle=False)\n",
    "val_loader = DataLoader(validation_set, batch_size=32, shuffle=False)"
   ]
  },
  {
   "cell_type": "code",
   "execution_count": 13,
   "id": "80cf78a8",
   "metadata": {},
   "outputs": [],
   "source": [
    "# model\n",
    "net = NFLPredictor(X_test.shape[1], 68, 1, 'tanh')\n",
    "\n",
    "# loss and optimizer\n",
    "criterion = nn.MSELoss()\n",
    "optimizer = torch.optim.SGD(net.parameters(), lr=0.001)\n",
    "\n",
    "num_epochs = 100"
   ]
  },
  {
   "cell_type": "code",
   "execution_count": 14,
   "id": "105ed94e",
   "metadata": {
    "scrolled": false
   },
   "outputs": [
    {
     "name": "stdout",
     "output_type": "stream",
     "text": [
      "Epoch 1/100: Train Loss: 216.3851, Train Acc: 0.0000, Val Loss: 210.8680, Val Acc: 0.0000\n",
      "Epoch 2/100: Train Loss: 209.2312, Train Acc: 0.0000, Val Loss: 204.5615, Val Acc: 0.0000\n",
      "Epoch 3/100: Train Loss: 198.5256, Train Acc: 0.0000, Val Loss: 189.6115, Val Acc: 0.0000\n",
      "Epoch 4/100: Train Loss: 181.5557, Train Acc: 0.0000, Val Loss: 166.4626, Val Acc: 0.0000\n",
      "Epoch 5/100: Train Loss: 164.8019, Train Acc: 0.0000, Val Loss: 153.3583, Val Acc: 0.0000\n",
      "Epoch 6/100: Train Loss: 155.0200, Train Acc: 0.0000, Val Loss: 148.1335, Val Acc: 0.0000\n",
      "Epoch 7/100: Train Loss: 151.2328, Train Acc: 0.0000, Val Loss: 145.6061, Val Acc: 0.0000\n",
      "Epoch 8/100: Train Loss: 150.0985, Train Acc: 0.0000, Val Loss: 149.0610, Val Acc: 0.0000\n",
      "Epoch 9/100: Train Loss: 149.8001, Train Acc: 0.0000, Val Loss: 144.5970, Val Acc: 0.0000\n",
      "Epoch 10/100: Train Loss: 148.8535, Train Acc: 0.0000, Val Loss: 154.7853, Val Acc: 0.0000\n",
      "Epoch 11/100: Train Loss: 148.3998, Train Acc: 0.0000, Val Loss: 153.0353, Val Acc: 0.0000\n",
      "Epoch 12/100: Train Loss: 149.2092, Train Acc: 0.0000, Val Loss: 144.8847, Val Acc: 0.0000\n",
      "Epoch 13/100: Train Loss: 147.7968, Train Acc: 0.0000, Val Loss: 144.6809, Val Acc: 0.0000\n",
      "Epoch 14/100: Train Loss: 148.0999, Train Acc: 0.0000, Val Loss: 147.2491, Val Acc: 0.0000\n",
      "Epoch 15/100: Train Loss: 147.4794, Train Acc: 0.0000, Val Loss: 145.0039, Val Acc: 0.0000\n",
      "Epoch 16/100: Train Loss: 148.4738, Train Acc: 0.0000, Val Loss: 144.8466, Val Acc: 0.0000\n",
      "Epoch 17/100: Train Loss: 147.7677, Train Acc: 0.0000, Val Loss: 145.3428, Val Acc: 0.0000\n",
      "Epoch 18/100: Train Loss: 147.1927, Train Acc: 0.0000, Val Loss: 145.2248, Val Acc: 0.0000\n",
      "Epoch 19/100: Train Loss: 147.3191, Train Acc: 0.0000, Val Loss: 145.1424, Val Acc: 0.0000\n",
      "Epoch 20/100: Train Loss: 147.3660, Train Acc: 0.0000, Val Loss: 145.5242, Val Acc: 0.0000\n",
      "Epoch 21/100: Train Loss: 147.1526, Train Acc: 0.0000, Val Loss: 145.5643, Val Acc: 0.0000\n",
      "Epoch 22/100: Train Loss: 147.2293, Train Acc: 0.0000, Val Loss: 147.9179, Val Acc: 0.0000\n",
      "Epoch 23/100: Train Loss: 146.7266, Train Acc: 0.0000, Val Loss: 146.0606, Val Acc: 0.0000\n",
      "Epoch 24/100: Train Loss: 147.1582, Train Acc: 0.0000, Val Loss: 147.7479, Val Acc: 0.0000\n",
      "Epoch 25/100: Train Loss: 146.5527, Train Acc: 0.0000, Val Loss: 147.9367, Val Acc: 0.0000\n",
      "Epoch 26/100: Train Loss: 147.1500, Train Acc: 0.0000, Val Loss: 145.3063, Val Acc: 0.0000\n",
      "Epoch 27/100: Train Loss: 147.1382, Train Acc: 0.0000, Val Loss: 145.7569, Val Acc: 0.0000\n",
      "Epoch 28/100: Train Loss: 147.1423, Train Acc: 0.0000, Val Loss: 145.0769, Val Acc: 0.0000\n",
      "Epoch 29/100: Train Loss: 146.3659, Train Acc: 0.0000, Val Loss: 145.2980, Val Acc: 0.0000\n",
      "Epoch 30/100: Train Loss: 146.6844, Train Acc: 0.0000, Val Loss: 145.2240, Val Acc: 0.0000\n",
      "Epoch 31/100: Train Loss: 146.6092, Train Acc: 0.0000, Val Loss: 149.8485, Val Acc: 0.0000\n",
      "Epoch 32/100: Train Loss: 146.3517, Train Acc: 0.0000, Val Loss: 151.8139, Val Acc: 0.0000\n",
      "Epoch 33/100: Train Loss: 145.9070, Train Acc: 0.0000, Val Loss: 146.1785, Val Acc: 0.0000\n",
      "Epoch 34/100: Train Loss: 146.5979, Train Acc: 0.0000, Val Loss: 145.5549, Val Acc: 0.0000\n",
      "Epoch 35/100: Train Loss: 145.8282, Train Acc: 0.0000, Val Loss: 145.5469, Val Acc: 0.0000\n",
      "Epoch 36/100: Train Loss: 146.3822, Train Acc: 0.0000, Val Loss: 145.7171, Val Acc: 0.0000\n",
      "Epoch 37/100: Train Loss: 146.7551, Train Acc: 0.0000, Val Loss: 146.0448, Val Acc: 0.0000\n",
      "Epoch 38/100: Train Loss: 146.4287, Train Acc: 0.0000, Val Loss: 146.2204, Val Acc: 0.0000\n",
      "Epoch 39/100: Train Loss: 146.5225, Train Acc: 0.0000, Val Loss: 148.1078, Val Acc: 0.0000\n",
      "Epoch 40/100: Train Loss: 145.7604, Train Acc: 0.0000, Val Loss: 147.9149, Val Acc: 0.0000\n",
      "Epoch 41/100: Train Loss: 146.2657, Train Acc: 0.0000, Val Loss: 145.2681, Val Acc: 0.0000\n",
      "Epoch 42/100: Train Loss: 145.8861, Train Acc: 0.0000, Val Loss: 146.7862, Val Acc: 0.0000\n",
      "Epoch 43/100: Train Loss: 146.5039, Train Acc: 0.0000, Val Loss: 145.8460, Val Acc: 0.0000\n",
      "Epoch 44/100: Train Loss: 145.5231, Train Acc: 0.0000, Val Loss: 146.2893, Val Acc: 0.0000\n",
      "Epoch 45/100: Train Loss: 146.8403, Train Acc: 0.0000, Val Loss: 147.8748, Val Acc: 0.0000\n",
      "Epoch 46/100: Train Loss: 145.6619, Train Acc: 0.0000, Val Loss: 145.4144, Val Acc: 0.0000\n",
      "Epoch 47/100: Train Loss: 145.7779, Train Acc: 0.0000, Val Loss: 145.8839, Val Acc: 0.0000\n",
      "Epoch 48/100: Train Loss: 145.9675, Train Acc: 0.0000, Val Loss: 151.1157, Val Acc: 0.0000\n",
      "Epoch 49/100: Train Loss: 145.5071, Train Acc: 0.0000, Val Loss: 145.5824, Val Acc: 0.0000\n",
      "Epoch 50/100: Train Loss: 145.4122, Train Acc: 0.0000, Val Loss: 147.7148, Val Acc: 0.0000\n",
      "Epoch 51/100: Train Loss: 145.2119, Train Acc: 0.0000, Val Loss: 152.3541, Val Acc: 0.0000\n",
      "Epoch 52/100: Train Loss: 145.3344, Train Acc: 0.0000, Val Loss: 151.3308, Val Acc: 0.0000\n",
      "Epoch 53/100: Train Loss: 145.4519, Train Acc: 0.0000, Val Loss: 153.0072, Val Acc: 0.0000\n",
      "Epoch 54/100: Train Loss: 145.9061, Train Acc: 0.0000, Val Loss: 148.9395, Val Acc: 0.0000\n",
      "Epoch 55/100: Train Loss: 144.6943, Train Acc: 0.0000, Val Loss: 151.2419, Val Acc: 0.0000\n",
      "Epoch 56/100: Train Loss: 146.4385, Train Acc: 0.0000, Val Loss: 145.5171, Val Acc: 0.0000\n",
      "Epoch 57/100: Train Loss: 145.4358, Train Acc: 0.0000, Val Loss: 152.6674, Val Acc: 0.0000\n",
      "Epoch 58/100: Train Loss: 145.4359, Train Acc: 0.0000, Val Loss: 147.8162, Val Acc: 0.0000\n",
      "Epoch 59/100: Train Loss: 144.7037, Train Acc: 0.0000, Val Loss: 147.3780, Val Acc: 0.0000\n",
      "Epoch 60/100: Train Loss: 145.5378, Train Acc: 0.0000, Val Loss: 149.2440, Val Acc: 0.0000\n",
      "Epoch 61/100: Train Loss: 144.8601, Train Acc: 0.0000, Val Loss: 145.5678, Val Acc: 0.0000\n",
      "Epoch 62/100: Train Loss: 144.7256, Train Acc: 0.0000, Val Loss: 148.6470, Val Acc: 0.0000\n",
      "Epoch 63/100: Train Loss: 145.5257, Train Acc: 0.0000, Val Loss: 146.8085, Val Acc: 0.0000\n",
      "Epoch 64/100: Train Loss: 144.3659, Train Acc: 0.0000, Val Loss: 146.2876, Val Acc: 0.0000\n",
      "Epoch 65/100: Train Loss: 145.2596, Train Acc: 0.0000, Val Loss: 146.5457, Val Acc: 0.0000\n",
      "Epoch 66/100: Train Loss: 145.2684, Train Acc: 0.0000, Val Loss: 147.4497, Val Acc: 0.0000\n",
      "Epoch 67/100: Train Loss: 144.2344, Train Acc: 0.0000, Val Loss: 146.5769, Val Acc: 0.0000\n",
      "Epoch 68/100: Train Loss: 145.4530, Train Acc: 0.0000, Val Loss: 145.8831, Val Acc: 0.0000\n",
      "Epoch 69/100: Train Loss: 144.9186, Train Acc: 0.0000, Val Loss: 146.5931, Val Acc: 0.0000\n",
      "Epoch 70/100: Train Loss: 144.9562, Train Acc: 0.0000, Val Loss: 159.5968, Val Acc: 0.0000\n",
      "Epoch 71/100: Train Loss: 145.4577, Train Acc: 0.0000, Val Loss: 146.3125, Val Acc: 0.0000\n",
      "Epoch 72/100: Train Loss: 144.7213, Train Acc: 0.0000, Val Loss: 147.0549, Val Acc: 0.0000\n",
      "Epoch 73/100: Train Loss: 144.9320, Train Acc: 0.0000, Val Loss: 151.2219, Val Acc: 0.0000\n",
      "Epoch 74/100: Train Loss: 144.3228, Train Acc: 0.0000, Val Loss: 149.2694, Val Acc: 0.0000\n",
      "Epoch 75/100: Train Loss: 144.1292, Train Acc: 0.0000, Val Loss: 147.2438, Val Acc: 0.0000\n",
      "Epoch 76/100: Train Loss: 144.7645, Train Acc: 0.0000, Val Loss: 145.7274, Val Acc: 0.0000\n",
      "Epoch 77/100: Train Loss: 144.2693, Train Acc: 0.0000, Val Loss: 145.7623, Val Acc: 0.0000\n",
      "Epoch 78/100: Train Loss: 143.7811, Train Acc: 0.0000, Val Loss: 146.3182, Val Acc: 0.0000\n",
      "Epoch 79/100: Train Loss: 144.2596, Train Acc: 0.0000, Val Loss: 145.7358, Val Acc: 0.0000\n",
      "Epoch 80/100: Train Loss: 144.7954, Train Acc: 0.0000, Val Loss: 147.2495, Val Acc: 0.0000\n",
      "Epoch 81/100: Train Loss: 144.7235, Train Acc: 0.0000, Val Loss: 146.7119, Val Acc: 0.0000\n",
      "Epoch 82/100: Train Loss: 144.1484, Train Acc: 0.0000, Val Loss: 146.5240, Val Acc: 0.0000\n",
      "Epoch 83/100: Train Loss: 144.6341, Train Acc: 0.0000, Val Loss: 149.4999, Val Acc: 0.0000\n",
      "Epoch 84/100: Train Loss: 144.6647, Train Acc: 0.0000, Val Loss: 151.8932, Val Acc: 0.0000\n",
      "Epoch 85/100: Train Loss: 143.9865, Train Acc: 0.0000, Val Loss: 154.8501, Val Acc: 0.0000\n",
      "Epoch 86/100: Train Loss: 144.9053, Train Acc: 0.0000, Val Loss: 146.0402, Val Acc: 0.0000\n",
      "Epoch 87/100: Train Loss: 145.0076, Train Acc: 0.0000, Val Loss: 152.7839, Val Acc: 0.0000\n",
      "Epoch 88/100: Train Loss: 144.3843, Train Acc: 0.0000, Val Loss: 145.8707, Val Acc: 0.0000\n",
      "Epoch 89/100: Train Loss: 144.4058, Train Acc: 0.0000, Val Loss: 148.7631, Val Acc: 0.0000\n",
      "Epoch 90/100: Train Loss: 144.4007, Train Acc: 0.0000, Val Loss: 146.2665, Val Acc: 0.0000\n",
      "Epoch 91/100: Train Loss: 144.1906, Train Acc: 0.0000, Val Loss: 146.6878, Val Acc: 0.0000\n",
      "Epoch 92/100: Train Loss: 144.7115, Train Acc: 0.0000, Val Loss: 156.4081, Val Acc: 0.0000\n",
      "Epoch 93/100: Train Loss: 144.0246, Train Acc: 0.0000, Val Loss: 151.1805, Val Acc: 0.0000\n",
      "Epoch 94/100: Train Loss: 143.7505, Train Acc: 0.0000, Val Loss: 146.3160, Val Acc: 0.0000\n",
      "Epoch 95/100: Train Loss: 144.3118, Train Acc: 0.0000, Val Loss: 146.3583, Val Acc: 0.0000\n"
     ]
    },
    {
     "name": "stdout",
     "output_type": "stream",
     "text": [
      "Epoch 96/100: Train Loss: 143.9678, Train Acc: 0.0000, Val Loss: 145.9079, Val Acc: 0.0000\n",
      "Epoch 97/100: Train Loss: 143.8839, Train Acc: 0.0000, Val Loss: 145.9177, Val Acc: 0.0000\n",
      "Epoch 98/100: Train Loss: 144.0482, Train Acc: 0.0000, Val Loss: 147.9329, Val Acc: 0.0000\n",
      "Epoch 99/100: Train Loss: 144.3100, Train Acc: 0.0000, Val Loss: 147.5628, Val Acc: 0.0000\n",
      "Epoch 100/100: Train Loss: 144.2591, Train Acc: 0.0000, Val Loss: 152.0926, Val Acc: 0.0000\n"
     ]
    }
   ],
   "source": [
    "# train the model\n",
    "best_model_state, train_losses, val_losses = train_model(net, num_epochs, train_loader, val_loader)"
   ]
  },
  {
   "cell_type": "code",
   "execution_count": 24,
   "id": "e6496600",
   "metadata": {
    "scrolled": false
   },
   "outputs": [
    {
     "data": {
      "text/plain": [
       "<matplotlib.legend.Legend at 0x169f27700>"
      ]
     },
     "execution_count": 24,
     "metadata": {},
     "output_type": "execute_result"
    },
    {
     "data": {
      "image/png": "[encoded data removed]",
      "text/plain": [
       "<Figure size 800x600 with 1 Axes>"
      ]
     },
     "metadata": {},
     "output_type": "display_data"
    }
   ],
   "source": [
    "# plot losses with respect to epoch\n",
    "plt.figure(figsize=(8,6))\n",
    "plt.title('Training & Validation Losses vs Epoch (Tanh Activation, 1 Layer, 68 Nodes)')\n",
    "plt.plot(train_losses, label = \"Training Loss\")\n",
    "plt.plot(val_losses, label = \"Validation Loss\")\n",
    "\n",
    "plt.xticks(range(0, num_epochs, 10))\n",
    "plt.xlabel(\"Epoch\")\n",
    "plt.ylabel(\"Loss\")\n",
    "# insert a legend\n",
    "plt.legend(\n",
    "    loc=\"upper right\",\n",
    "    fontsize=\"small\")"
   ]
  },
  {
   "cell_type": "code",
   "execution_count": 16,
   "id": "e7da2fdb",
   "metadata": {},
   "outputs": [
    {
     "data": {
      "text/plain": [
       "<All keys matched successfully>"
      ]
     },
     "execution_count": 16,
     "metadata": {},
     "output_type": "execute_result"
    }
   ],
   "source": [
    "# load best model\n",
    "net.load_state_dict(best_model_state)"
   ]
  },
  {
   "cell_type": "code",
   "execution_count": 17,
   "id": "04356904",
   "metadata": {
    "scrolled": true
   },
   "outputs": [],
   "source": [
    "results = np.array([])\n",
    "with torch.no_grad():\n",
    "    for X, Y in test_loader:\n",
    "        pred = net(X)\n",
    "        #results.append(pred.data[0][0].item())\n",
    "        results = np.append(results, [pred.data[0][0].item()])"
   ]
  },
  {
   "cell_type": "code",
   "execution_count": 18,
   "id": "34f423cd",
   "metadata": {},
   "outputs": [],
   "source": [
    "results_df = pd.DataFrame(columns = ['ht_pts_diff', 'ht_vegas_line', 'model_pred'])\n",
    "results_df['ht_pts_diff'] = df['ht_pts_diff'][2560:]\n",
    "results_df['ht_vegas_line'] = df['ht_vegas_line'][2560:]\n",
    "results_df = results_df.reset_index(drop = True)\n",
    "results_df['model_pred'] = results.tolist()"
   ]
  },
  {
   "cell_type": "code",
   "execution_count": 19,
   "id": "db2dd5bf",
   "metadata": {},
   "outputs": [],
   "source": [
    "results_df.to_csv('results/neural_net_results.csv')"
   ]
  },
  {
   "cell_type": "code",
   "execution_count": 20,
   "id": "3481db49",
   "metadata": {},
   "outputs": [],
   "source": [
    "new_train_loader = DataLoader(train_set, shuffle=False)\n",
    "train_results = np.array([])\n",
    "with torch.no_grad():\n",
    "    for X, Y in new_train_loader:\n",
    "        pred = net(X)\n",
    "        #results.append(pred.data[0][0].item())\n",
    "        train_results = np.append(train_results, [pred.data[0][0].item()])"
   ]
  },
  {
   "cell_type": "code",
   "execution_count": 21,
   "id": "42869e84",
   "metadata": {},
   "outputs": [],
   "source": [
    "train_results_df = pd.DataFrame(columns = ['ht_pts_diff', 'ht_vegas_line', 'model_pred'])\n",
    "train_results_df['ht_pts_diff'] = df['ht_pts_diff'][:2048]\n",
    "train_results_df['ht_vegas_line'] = df['ht_vegas_line'][:2048]\n",
    "train_results_df = train_results_df.reset_index(drop = True)\n",
    "train_results_df['model_pred'] = train_results.tolist()"
   ]
  },
  {
   "cell_type": "markdown",
   "id": "3ec7cfb1",
   "metadata": {},
   "source": [
    "*************************************************************\n",
    "**The following are the results of the model on Training Data:**\n",
    "*************************************************************"
   ]
  },
  {
   "cell_type": "code",
   "execution_count": 22,
   "id": "64475472",
   "metadata": {
    "scrolled": false
   },
   "outputs": [
    {
     "name": "stdout",
     "output_type": "stream",
     "text": [
      "Total Number of Games:\n",
      " 2048\n",
      "Winning Bets Count:\n",
      " 1236\n",
      "No Bet Placed Count:\n",
      " 72\n",
      "Winning Percentage:\n",
      " 0.6255\n",
      "______________________________________\n",
      "Winner Correctly Predicted Count:\n",
      " 1471\n",
      "Accuracy in Classifaction:\n",
      " 0.7183\n",
      "______________________________________\n",
      "Mean Squared Error of Results:\n",
      " 148.5727\n",
      "Root Mean Squared Error of Results:\n",
      " 12.1890\n"
     ]
    }
   ],
   "source": [
    "process_results(train_results_df)"
   ]
  },
  {
   "cell_type": "markdown",
   "id": "64d3a5da",
   "metadata": {},
   "source": [
    "*************************************************************\n",
    "**The following are the results of the model on Testing Data:**\n",
    "*************************************************************"
   ]
  },
  {
   "cell_type": "code",
   "execution_count": 23,
   "id": "db4f3651",
   "metadata": {},
   "outputs": [
    {
     "name": "stdout",
     "output_type": "stream",
     "text": [
      "Total Number of Games:\n",
      " 799\n",
      "Winning Bets Count:\n",
      " 477\n",
      "No Bet Placed Count:\n",
      " 33\n",
      "Winning Percentage:\n",
      " 0.6227\n",
      "______________________________________\n",
      "Winner Correctly Predicted Count:\n",
      " 556\n",
      "Accuracy in Classifaction:\n",
      " 0.6959\n",
      "______________________________________\n",
      "Mean Squared Error of Results:\n",
      " 137.7386\n",
      "Root Mean Squared Error of Results:\n",
      " 11.7362\n"
     ]
    }
   ],
   "source": [
    "process_results(results_df)"
   ]
  }
 ],
 "metadata": {
  "kernelspec": {
   "display_name": "Python 3 (ipykernel)",
   "language": "python",
   "name": "python3"
  },
  "language_info": {
   "codemirror_mode": {
    "name": "ipython",
    "version": 3
   },
   "file_extension": ".py",
   "mimetype": "text/x-python",
   "name": "python",
   "nbconvert_exporter": "python",
   "pygments_lexer": "ipython3",
   "version": "3.10.9"
  }
 },
 "nbformat": 4,
 "nbformat_minor": 5
}
