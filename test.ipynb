{
 "cells": [
  {
   "cell_type": "code",
   "execution_count": 4,
   "id": "e06db600",
   "metadata": {},
   "outputs": [
    {
     "name": "stdout",
     "output_type": "stream",
     "text": [
      "Empty DataFrame\n",
      "Columns: [team_abbr, points_for, yards, plays, yards_per_plbay, turnovers, fumbles_lost, first_downs, completions, pass_attempts, pass_yards, pass_tds, interceptions, pass_yards_per_attempt, pass_first_downs, rush_attempts, rush_yards, rush_tds, rush_yards_per_attempt, rush_first_downs, penalties, penalty_yards, penalty_first_downs, num_drives, scoring_percentage, turnover_percentage, o_points_for, o_yards, o_plays, o_yards_per_play, o_turnovers, o_fumbles_lost, o_first_downs, o_completions, o_pass_attempts, o_pass_yards, o_pass_tds, o_interceptions, o_pass_yards_per_attempt, o_pass_first_downs, o_rush_attempts, o_rush_yards, o_rush_tds, o_rush_yards_per_attempt, o_rush_first_downs, o_penalties, o_penalty_yards, o_penalty_first_downs, o_num_drives, o_scoring_percentage, o_turnover_percentage, 3D_attempts, 3D_conversions, 3D_conversion_percentage, 4D_attempts, 4D_conversions, 4D_conversion_percentage, red_zone_attempts, red_zone_tds, red_zone_td_percentage, o_3D_attempts, o_3D_conversions, o_3D_conversion_percentage, o_4D_attempts, o_4D_conversions, o_4D_conversion_percentage, o_red_zone_attempts, o_red_zone_tds, o_red_zone_td_percentage]\n",
      "Index: []\n",
      "\n",
      "[0 rows x 69 columns]\n"
     ]
    }
   ],
   "source": [
    "from bs4 import BeautifulSoup\n",
    "import numpy as np\n",
    "import pandas as pd\n",
    "import requests\n",
    "\n",
    "from vardata import years, team_abbr, columns\n",
    "\n",
    "url = 'https://www.pro-football-reference.com'\n",
    "\n",
    "exec('ts_' + years[0] + ' = pd.DataFrame(columns = columns)')\n",
    "\n",
    "r = requests.get(url + '/teams/' + team_abbr[21] + '/2022.htm') \n",
    "# use beautiful soup to return the html of the webpage\n",
    "soup = BeautifulSoup(r.content, 'html.parser')\n",
    "# grab the team stats table from the webpage\n",
    "team_stats = soup.find_all('table')[0]\n",
    "# grab the team conversions table from the webpage\n",
    "team_conv = soup.find_all('table')[2]\n",
    "#print(team_conv)\n",
    "print(ts_2010)"
   ]
  },
  {
   "cell_type": "code",
   "execution_count": 64,
   "id": "35dcfda8",
   "metadata": {
    "scrolled": true
   },
   "outputs": [
    {
     "name": "stdout",
     "output_type": "stream",
     "text": [
      "[364.0, 5348.0, 1006.0, 5.3, 23.0, 9.0, 288.0, 358.0, 540.0, 3536.0, 19.0, 14.0, 6.1, 166.0, 425.0, 1812.0, 12.0, 4.3, 98.0, 104.0, 841.0, 24.0, 192.0, 32.8, 12.0, 347.0, 5474.0, 1091.0, 5.0, 30.0, 11.0, 314.0, 364.0, 596.0, 3681.0, 28.0, 19.0, 5.7, 194.0, 441.0, 1793.0, 7.0, 4.1, 90.0, 89.0, 699.0, 30.0, 190.0, 30.5, 14.2]\n"
     ]
    }
   ],
   "source": [
    "# transform team_stats table into nested array of data\n",
    "# collect column headers\n",
    "column_headers = team_stats.findAll('tr')[1]\n",
    "column_headers = [i.getText() for i in column_headers.findAll('th')[1:26]]\n",
    "\n",
    "# Collect table rows\n",
    "rows = team_stats.findAll('tr')[2:4]\n",
    "# Get stats from each row\n",
    "stats = []\n",
    "for i in range(len(rows)):\n",
    "    stats.extend([float(col.getText()) for col in rows[i].findAll('td')[:25]])\n",
    "    #row = [float(col.getText()) for col in rows[i].findAll('td')[:25]]\n",
    "    #stats.extend(row)\n",
    "labeled_stats = stats\n",
    "\n",
    "print(labeled_stats)"
   ]
  },
  {
   "cell_type": "code",
   "execution_count": 53,
   "id": "c048a31b",
   "metadata": {},
   "outputs": [
    {
     "name": "stdout",
     "output_type": "stream",
     "text": [
      "[364.0, 5348.0, 1006.0, 5.3, 23.0, 9.0, 288.0, 358.0, 540.0, 3536.0, 19.0, 14.0, 6.1, 166.0, 425.0, 1812.0, 12.0, 4.3, 98.0, 104.0, 841.0, 24.0, 192.0, 32.8, 12.0, 347.0, 5474.0, 1091.0, 5.0, 30.0, 11.0, 314.0, 364.0, 596.0, 3681.0, 28.0, 19.0, 5.7, 194.0, 441.0, 1793.0, 7.0, 4.1, 90.0, 89.0, 699.0, 30.0, 190.0, 30.5, 14.2, 215.0, 75.0, 34.9, 13.0, 5.0, 38.5, 45.0, 19.0, 42.2, 241.0, 97.0, 40.2, 27.0, 10.0, 37.0, 50.0, 29.0, 58.0]\n"
     ]
    }
   ],
   "source": [
    "# transform team_conv table into nested array of data\n",
    "# collect column headers\n",
    "column_headers = team_conv.findAll('tr')[1]\n",
    "column_headers = [i.getText() for i in column_headers.findAll('th')[1:]]\n",
    "\n",
    "# Collect table rows\n",
    "rows = team_conv.findAll('tr')[2:4]\n",
    "# Get stats from each row\n",
    "stats = []\n",
    "for i in range(len(rows)):\n",
    "    stats.extend([float(col.getText()) for col in rows[i].findAll('td')])\n",
    "\n",
    "# add team_conv stats to labeled_stats\n",
    "#labeled_stats[0] += column_headers\n",
    "#labeled_stats[1] += stats[0]\n",
    "#labeled_stats[2] += stats[1]\n",
    "labeled_stats.extend(stats)\n",
    "print(labeled_stats)\n"
   ]
  },
  {
   "cell_type": "code",
   "execution_count": 21,
   "id": "6a996c2f",
   "metadata": {},
   "outputs": [],
   "source": [
    "labeled_stats.insert(0,'nwe')"
   ]
  },
  {
   "cell_type": "code",
   "execution_count": 22,
   "id": "1d876bd8",
   "metadata": {
    "scrolled": true
   },
   "outputs": [
    {
     "name": "stdout",
     "output_type": "stream",
     "text": [
      "['nwe', 364.0, 5348.0, 1006.0, 5.3, 23.0, 9.0, 288.0, 358.0, 540.0, 3536.0, 19.0, 14.0, 6.1, 166.0, 425.0, 1812.0, 12.0, 4.3, 98.0, 104.0, 841.0, 24.0, 192.0, 32.8, 12.0, 347.0, 5474.0, 1091.0, 5.0, 30.0, 11.0, 314.0, 364.0, 596.0, 3681.0, 28.0, 19.0, 5.7, 194.0, 441.0, 1793.0, 7.0, 4.1, 90.0, 89.0, 699.0, 30.0, 190.0, 30.5, 14.2, 215.0, 75.0, 34.9, 13.0, 5.0, 38.5, 45.0, 19.0, 42.2, 241.0, 97.0, 40.2, 27.0, 10.0, 37.0, 50.0, 29.0, 58.0]\n"
     ]
    }
   ],
   "source": [
    "print(labeled_stats)"
   ]
  },
  {
   "cell_type": "code",
   "execution_count": 32,
   "id": "fb28a497",
   "metadata": {},
   "outputs": [],
   "source": [
    "labeled_stats = [labeled_stats]"
   ]
  },
  {
   "cell_type": "code",
   "execution_count": 33,
   "id": "8103a07c",
   "metadata": {},
   "outputs": [
    {
     "name": "stdout",
     "output_type": "stream",
     "text": [
      "[['nwe', 364.0, 5348.0, 1006.0, 5.3, 23.0, 9.0, 288.0, 358.0, 540.0, 3536.0, 19.0, 14.0, 6.1, 166.0, 425.0, 1812.0, 12.0, 4.3, 98.0, 104.0, 841.0, 24.0, 192.0, 32.8, 12.0, 347.0, 5474.0, 1091.0, 5.0, 30.0, 11.0, 314.0, 364.0, 596.0, 3681.0, 28.0, 19.0, 5.7, 194.0, 441.0, 1793.0, 7.0, 4.1, 90.0, 89.0, 699.0, 30.0, 190.0, 30.5, 14.2, 215.0, 75.0, 34.9, 13.0, 5.0, 38.5, 45.0, 19.0, 42.2, 241.0, 97.0, 40.2, 27.0, 10.0, 37.0, 50.0, 29.0, 58.0]]\n"
     ]
    }
   ],
   "source": [
    "print(labeled_stats)"
   ]
  },
  {
   "cell_type": "code",
   "execution_count": 30,
   "id": "06085a4b",
   "metadata": {},
   "outputs": [],
   "source": []
  },
  {
   "cell_type": "code",
   "execution_count": 34,
   "id": "89bbe2d6",
   "metadata": {
    "scrolled": true
   },
   "outputs": [],
   "source": [
    "df = pd.DataFrame(labeled_stats, columns = columns)"
   ]
  },
  {
   "cell_type": "code",
   "execution_count": 35,
   "id": "805abed0",
   "metadata": {
    "scrolled": true
   },
   "outputs": [
    {
     "name": "stdout",
     "output_type": "stream",
     "text": [
      "  team_abbr  points_for   yards   plays  yards_per_plbay  turnovers  \\\n",
      "0       nwe       364.0  5348.0  1006.0              5.3       23.0   \n",
      "\n",
      "   fumbles_lost  first_downs  completions  pass_attempts  ...  \\\n",
      "0           9.0        288.0        358.0          540.0  ...   \n",
      "\n",
      "   red_zone_td_percentage  o_3D_attempts  o_3D_conversions  \\\n",
      "0                    42.2          241.0              97.0   \n",
      "\n",
      "   o_3D_conversion_percentage  o_4D_attempts  o_4D_conversions  \\\n",
      "0                        40.2           27.0              10.0   \n",
      "\n",
      "   o_4D_conversion_percentage  o_red_zone_attempts  o_red_zone_tds  \\\n",
      "0                        37.0                 50.0            29.0   \n",
      "\n",
      "   o_red_zone_td_percentage  \n",
      "0                      58.0  \n",
      "\n",
      "[1 rows x 69 columns]\n"
     ]
    }
   ],
   "source": [
    "print(df)"
   ]
  },
  {
   "cell_type": "code",
   "execution_count": 36,
   "id": "f1b50ed1",
   "metadata": {},
   "outputs": [],
   "source": [
    "df.to_csv('test.csv')"
   ]
  },
  {
   "cell_type": "code",
   "execution_count": 26,
   "id": "5b9dde97",
   "metadata": {
    "scrolled": false
   },
   "outputs": [
    {
     "name": "stdout",
     "output_type": "stream",
     "text": [
      "PF\tYds\tPly\tY/P\tTO\tFL\t1stD\tCmp\tAtt\tYds\tTD\tInt\tNY/A\t1stD\tAtt\tYds\tTD\tY/A\t1stD\tPen\tYds\t1stPy\t#Dr\tSc%\tTO%\t3DAtt\t3DConv\t3D%\t4DAtt\t4DConv\t4D%\tRZAtt\tRZTD\tRZPct\t\n",
      "364.0\t5348.0\t1006.0\t5.3\t23.0\t9.0\t288.0\t358.0\t540.0\t3536.0\t19.0\t14.0\t6.1\t166.0\t425.0\t1812.0\t12.0\t4.3\t98.0\t104.0\t841.0\t24.0\t192.0\t32.8\t12.0\t215.0\t75.0\t34.9\t13.0\t5.0\t38.5\t45.0\t19.0\t42.2\t\n",
      "347.0\t5474.0\t1091.0\t5.0\t30.0\t11.0\t314.0\t364.0\t596.0\t3681.0\t28.0\t19.0\t5.7\t194.0\t441.0\t1793.0\t7.0\t4.1\t90.0\t89.0\t699.0\t30.0\t190.0\t30.5\t14.2\t241.0\t97.0\t40.2\t27.0\t10.0\t37.0\t50.0\t29.0\t58.0\t\n"
     ]
    }
   ],
   "source": [
    "for row in labeled_stats:\n",
    "    for stat in row:\n",
    "        print(stat, end = \"\\t\")\n",
    "    print(\"\")"
   ]
  },
  {
   "cell_type": "code",
   "execution_count": null,
   "id": "ef652253",
   "metadata": {},
   "outputs": [],
   "source": []
  }
 ],
 "metadata": {
  "kernelspec": {
   "display_name": "Python 3 (ipykernel)",
   "language": "python",
   "name": "python3"
  },
  "language_info": {
   "codemirror_mode": {
    "name": "ipython",
    "version": 3
   },
   "file_extension": ".py",
   "mimetype": "text/x-python",
   "name": "python",
   "nbconvert_exporter": "python",
   "pygments_lexer": "ipython3",
   "version": "3.9.12"
  }
 },
 "nbformat": 4,
 "nbformat_minor": 5
}
