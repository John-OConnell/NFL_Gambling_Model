{
 "cells": [
  {
   "cell_type": "code",
   "execution_count": 2,
   "id": "24f267a9",
   "metadata": {},
   "outputs": [],
   "source": [
    "from bs4 import BeautifulSoup, Comment\n",
    "import numpy as np\n",
    "import pandas as pd\n",
    "import requests\n",
    "import cloudscraper\n",
    "import time\n",
    "import random\n",
    "import re\n",
    "from vardata import years, team_abbr, columns, teams\n",
    "\n",
    "url = 'https://www.pro-football-reference.com'"
   ]
  },
  {
   "cell_type": "code",
   "execution_count": 24,
   "id": "e9b7927a",
   "metadata": {},
   "outputs": [
    {
     "name": "stdout",
     "output_type": "stream",
     "text": [
      "[['ram', 'buf', -21, 2.5]]\n",
      "[['ram', 'buf', -21, 2.5], ['atl', 'nor', -1, 5.5]]\n",
      "[['ram', 'buf', -21, 2.5], ['atl', 'nor', -1, 5.5], ['car', 'cle', -2, -1.5]]\n",
      "[['ram', 'buf', -21, 2.5], ['atl', 'nor', -1, 5.5], ['car', 'cle', -2, -1.5], ['chi', 'sfo', 9, 6.0]]\n"
     ]
    }
   ],
   "source": [
    "r = requests.get(url + '/years/2022/games.htm')\n",
    "\n",
    "soup = BeautifulSoup(r.content, 'html.parser')\n",
    "# grab the team stats table from the webpage\n",
    "game_stats = soup.find_all('table')[0]\n",
    "# grab the team conversions table from the webpage\n",
    "#team_conv = soup.find_all('table')[2]\n",
    "\n",
    "# Collect table rows\n",
    "stat_rows = game_stats.findAll('tr')[1:5]\n",
    "\n",
    "\n",
    "final_stats = []\n",
    "\n",
    "for i in range(len(stat_rows)):\n",
    "    \n",
    "    \n",
    "    #-------------------------------------------------------------------------\n",
    "    link = stat_rows[i].find(href=re.compile(\"boxscores\"))\n",
    "    href=link.get('href')\n",
    "    r1 = requests.get(url + href)\n",
    "    soup1 = BeautifulSoup(r1.content, 'html.parser')\n",
    "    for comment in soup1.find_all(text=lambda text: isinstance(text, Comment)):\n",
    "        if comment.find(\"game_info\") > 0:\n",
    "            comment_soup = BeautifulSoup(comment, 'html.parser')\n",
    "            vegas_line = comment_soup.find(\"th\", text=\"Vegas Line\").find_next('td').text\n",
    "            favorite = ' '.join(vegas_line.split()[:-1])\n",
    "            vegas_line = float(vegas_line.split()[-1])\n",
    "    #-------------------------------------------------------------------------\n",
    "    \n",
    "    \n",
    "    #stats.append([col.getText() for col in stat_rows[i].findAll('td')])\n",
    "    #print(stats)\n",
    "    row = []\n",
    "    row.extend([col.getText() for col in stat_rows[i].findAll('td')])\n",
    "    #print(row)\n",
    "    \n",
    "    if row[4] != '@':\n",
    "        home_team = teams[row[3]]\n",
    "        away_team = teams[row[5]]\n",
    "        ht_pts_diff = int(row[7]) - int(row[8])\n",
    "        \n",
    "        if row[3] == favorite:\n",
    "            ht_vegas_line = vegas_line\n",
    "        else:\n",
    "            ht_vegas_line = abs(vegas_line)\n",
    "        \n",
    "    else:\n",
    "        home_team = teams[row[5]]\n",
    "        away_team = teams[row[3]]\n",
    "        ht_pts_diff = int(row[8]) - int(row[7])\n",
    "        \n",
    "        if row[3] == favorite:\n",
    "            ht_vegas_line = abs(vegas_line)\n",
    "        else:\n",
    "            ht_vegas_line = vegas_line\n",
    "    \n",
    "    \n",
    "    final_stats.append([home_team, away_team, ht_pts_diff, ht_vegas_line])\n",
    "    print(final_stats)\n",
    "    \n",
    "\n"
   ]
  },
  {
   "cell_type": "code",
   "execution_count": 22,
   "id": "581cdd7a",
   "metadata": {},
   "outputs": [],
   "source": [
    "vegas_line = 'San Francisco 49ers -6.0'\n",
    "\n",
    "favorite = ' '.join(vegas_line.split()[:-1])\n",
    "vegas_line = float(vegas_line.split()[-1])"
   ]
  },
  {
   "cell_type": "code",
   "execution_count": 23,
   "id": "1b1f8ca4",
   "metadata": {},
   "outputs": [
    {
     "name": "stdout",
     "output_type": "stream",
     "text": [
      "San Francisco 49ers\n",
      "-6.0\n"
     ]
    }
   ],
   "source": [
    "print(favorite)\n",
    "print(vegas_line)"
   ]
  },
  {
   "cell_type": "code",
   "execution_count": null,
   "id": "21c75b91",
   "metadata": {},
   "outputs": [],
   "source": []
  }
 ],
 "metadata": {
  "kernelspec": {
   "display_name": "Python 3 (ipykernel)",
   "language": "python",
   "name": "python3"
  },
  "language_info": {
   "codemirror_mode": {
    "name": "ipython",
    "version": 3
   },
   "file_extension": ".py",
   "mimetype": "text/x-python",
   "name": "python",
   "nbconvert_exporter": "python",
   "pygments_lexer": "ipython3",
   "version": "3.9.12"
  }
 },
 "nbformat": 4,
 "nbformat_minor": 5
}
