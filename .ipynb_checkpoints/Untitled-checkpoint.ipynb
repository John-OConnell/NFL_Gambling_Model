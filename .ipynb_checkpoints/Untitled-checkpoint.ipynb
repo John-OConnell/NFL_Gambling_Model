{
 "cells": [
  {
   "cell_type": "code",
   "execution_count": 2,
   "id": "e7942cda",
   "metadata": {},
   "outputs": [],
   "source": [
    "from bs4 import BeautifulSoup\n",
    "import numpy as np\n",
    "import pandas as pd\n",
    "import requests\n",
    "import cloudscraper\n",
    "import time\n",
    "import random\n",
    "from vardata import years, team_abbr, columns\n",
    "\n",
    "url = 'https://www.pro-football-reference.com'"
   ]
  },
  {
   "cell_type": "code",
   "execution_count": 7,
   "id": "b22a58e0",
   "metadata": {},
   "outputs": [
    {
     "ename": "ValueError",
     "evalue": "could not convert string to float: 'Thu'",
     "output_type": "error",
     "traceback": [
      "\u001b[0;31m---------------------------------------------------------------------------\u001b[0m",
      "\u001b[0;31mValueError\u001b[0m                                Traceback (most recent call last)",
      "Input \u001b[0;32mIn [7]\u001b[0m, in \u001b[0;36m<cell line: 13>\u001b[0;34m()\u001b[0m\n\u001b[1;32m     12\u001b[0m stats \u001b[38;5;241m=\u001b[39m []\n\u001b[1;32m     13\u001b[0m \u001b[38;5;28;01mfor\u001b[39;00m i \u001b[38;5;129;01min\u001b[39;00m \u001b[38;5;28mrange\u001b[39m(\u001b[38;5;28mlen\u001b[39m(stat_rows)):\n\u001b[0;32m---> 14\u001b[0m     stats\u001b[38;5;241m.\u001b[39mextend([\u001b[38;5;28mfloat\u001b[39m(col\u001b[38;5;241m.\u001b[39mgetText()) \u001b[38;5;28;01mfor\u001b[39;00m col \u001b[38;5;129;01min\u001b[39;00m stat_rows[i]\u001b[38;5;241m.\u001b[39mfindAll(\u001b[38;5;124m'\u001b[39m\u001b[38;5;124mtd\u001b[39m\u001b[38;5;124m'\u001b[39m)])\n",
      "Input \u001b[0;32mIn [7]\u001b[0m, in \u001b[0;36m<listcomp>\u001b[0;34m(.0)\u001b[0m\n\u001b[1;32m     12\u001b[0m stats \u001b[38;5;241m=\u001b[39m []\n\u001b[1;32m     13\u001b[0m \u001b[38;5;28;01mfor\u001b[39;00m i \u001b[38;5;129;01min\u001b[39;00m \u001b[38;5;28mrange\u001b[39m(\u001b[38;5;28mlen\u001b[39m(stat_rows)):\n\u001b[0;32m---> 14\u001b[0m     stats\u001b[38;5;241m.\u001b[39mextend([\u001b[38;5;28;43mfloat\u001b[39;49m\u001b[43m(\u001b[49m\u001b[43mcol\u001b[49m\u001b[38;5;241;43m.\u001b[39;49m\u001b[43mgetText\u001b[49m\u001b[43m(\u001b[49m\u001b[43m)\u001b[49m\u001b[43m)\u001b[49m \u001b[38;5;28;01mfor\u001b[39;00m col \u001b[38;5;129;01min\u001b[39;00m stat_rows[i]\u001b[38;5;241m.\u001b[39mfindAll(\u001b[38;5;124m'\u001b[39m\u001b[38;5;124mtd\u001b[39m\u001b[38;5;124m'\u001b[39m)])\n",
      "\u001b[0;31mValueError\u001b[0m: could not convert string to float: 'Thu'"
     ]
    }
   ],
   "source": [
    "r = requests.get(url + '/years/2022/games.htm')\n",
    "\n",
    "soup = BeautifulSoup(r.content, 'html.parser')\n",
    "# grab the team stats table from the webpage\n",
    "team_stats = soup.find_all('table')[0]\n",
    "# grab the team conversions table from the webpage\n",
    "#team_conv = soup.find_all('table')[2]\n",
    "\n",
    "# Collect table rows\n",
    "stat_rows = team_stats.findAll('tr')[:4]\n",
    "\n",
    "stats = []\n",
    "for i in range(len(stat_rows)):\n",
    "    stats.extend([float(col.getText()) for col in stat_rows[i].findAll('td')])\n"
   ]
  },
  {
   "cell_type": "code",
   "execution_count": 6,
   "id": "001f1728",
   "metadata": {},
   "outputs": [
    {
     "name": "stdout",
     "output_type": "stream",
     "text": [
      "[<tr>\n",
      "<th aria-label=\"Week\" class=\"poptip sort_default_asc sorttable_nosort center\" data-stat=\"week_num\" data-tip=\"Week number in season\" scope=\"col\">Week</th>\n",
      "<th aria-label=\"Day\" class=\"poptip sort_default_asc left\" data-stat=\"game_day_of_week\" scope=\"col\">Day</th>\n",
      "<th aria-label=\"Date\" class=\"poptip sort_default_asc center\" data-stat=\"game_date\" scope=\"col\">Date</th>\n",
      "<th aria-label=\"Time\" class=\"poptip sort_default_asc center\" data-stat=\"gametime\" data-tip=\"Game Time, Eastern\" scope=\"col\">Time</th>\n",
      "<th aria-label=\"Winner/tie\" class=\"poptip sort_default_asc center\" data-stat=\"winner\" scope=\"col\">Winner/tie</th>\n",
      "<th aria-label=\"\" class=\"poptip sort_default_asc center\" data-stat=\"game_location\" scope=\"col\"></th>\n",
      "<th aria-label=\"Loser/tie\" class=\"poptip sort_default_asc center\" data-stat=\"loser\" scope=\"col\">Loser/tie</th>\n",
      "<th aria-label=\"\" class=\"poptip sort_default_asc center\" data-stat=\"boxscore_word\" scope=\"col\"></th>\n",
      "<th aria-label=\"PtsW\" class=\"poptip center\" data-stat=\"pts_win\" data-tip=\"Points Scored by the winning team (first one listed)\" scope=\"col\">PtsW</th>\n",
      "<th aria-label=\"PtsL\" class=\"poptip center\" data-stat=\"pts_lose\" data-tip=\"Points Scored by the losing team (second one listed)\" scope=\"col\">PtsL</th>\n",
      "<th aria-label=\"YdsW\" class=\"poptip center\" data-stat=\"yards_win\" data-tip=\"Yards Gained by the winning team (first one listed)\" scope=\"col\">YdsW</th>\n",
      "<th aria-label=\"TOW\" class=\"poptip center\" data-stat=\"to_win\" data-tip=\"Turnovers by the winning team (first one listed)\" scope=\"col\">TOW</th>\n",
      "<th aria-label=\"YdsL\" class=\"poptip center\" data-stat=\"yards_lose\" data-tip=\"Yards Gained by the losing team (second one listed)\" scope=\"col\">YdsL</th>\n",
      "<th aria-label=\"TOL\" class=\"poptip center\" data-stat=\"to_lose\" data-tip=\"Turnovers by the losing team (second one listed)\" scope=\"col\">TOL</th>\n",
      "</tr>, <tr><th class=\"right\" csk=\"1\" data-stat=\"week_num\" scope=\"row\">1</th><td class=\"left\" data-stat=\"game_day_of_week\">Thu</td><td class=\"left\" csk=\"2022-09-08\" data-stat=\"game_date\">2022-09-08</td><td class=\"right\" data-stat=\"gametime\">8:20PM</td><td class=\"left\" data-stat=\"winner\"><strong><a href=\"/teams/buf/2022.htm\">Buffalo Bills</a></strong></td><td class=\"right\" data-stat=\"game_location\">@</td><td class=\"left\" data-stat=\"loser\"><a href=\"/teams/ram/2022.htm\">Los Angeles Rams</a></td><td class=\"center\" data-stat=\"boxscore_word\"><a href=\"/boxscores/202209080ram.htm\">boxscore</a></td><td class=\"right\" data-stat=\"pts_win\"><strong>31</strong></td><td class=\"right\" data-stat=\"pts_lose\">10</td><td class=\"right\" data-stat=\"yards_win\">413</td><td class=\"right\" data-stat=\"to_win\">4</td><td class=\"right\" data-stat=\"yards_lose\">243</td><td class=\"right\" data-stat=\"to_lose\">3</td></tr>, <tr><th class=\"right\" csk=\"1\" data-stat=\"week_num\" scope=\"row\">1</th><td class=\"left\" data-stat=\"game_day_of_week\">Sun</td><td class=\"left\" csk=\"2022-09-11\" data-stat=\"game_date\">2022-09-11</td><td class=\"right\" data-stat=\"gametime\">1:00PM</td><td class=\"left\" data-stat=\"winner\"><strong><a href=\"/teams/nor/2022.htm\">New Orleans Saints</a></strong></td><td class=\"right\" data-stat=\"game_location\">@</td><td class=\"left\" data-stat=\"loser\"><a href=\"/teams/atl/2022.htm\">Atlanta Falcons</a></td><td class=\"center\" data-stat=\"boxscore_word\"><a href=\"/boxscores/202209110atl.htm\">boxscore</a></td><td class=\"right\" data-stat=\"pts_win\"><strong>27</strong></td><td class=\"right\" data-stat=\"pts_lose\">26</td><td class=\"right\" data-stat=\"yards_win\">385</td><td class=\"right\" data-stat=\"to_win\">1</td><td class=\"right\" data-stat=\"yards_lose\">416</td><td class=\"right\" data-stat=\"to_lose\">2</td></tr>, <tr><th class=\"right\" csk=\"1\" data-stat=\"week_num\" scope=\"row\">1</th><td class=\"left\" data-stat=\"game_day_of_week\">Sun</td><td class=\"left\" csk=\"2022-09-11\" data-stat=\"game_date\">2022-09-11</td><td class=\"right\" data-stat=\"gametime\">1:00PM</td><td class=\"left\" data-stat=\"winner\"><strong><a href=\"/teams/cle/2022.htm\">Cleveland Browns</a></strong></td><td class=\"right\" data-stat=\"game_location\">@</td><td class=\"left\" data-stat=\"loser\"><a href=\"/teams/car/2022.htm\">Carolina Panthers</a></td><td class=\"center\" data-stat=\"boxscore_word\"><a href=\"/boxscores/202209110car.htm\">boxscore</a></td><td class=\"right\" data-stat=\"pts_win\"><strong>26</strong></td><td class=\"right\" data-stat=\"pts_lose\">24</td><td class=\"right\" data-stat=\"yards_win\">355</td><td class=\"right iz\" data-stat=\"to_win\">0</td><td class=\"right\" data-stat=\"yards_lose\">261</td><td class=\"right\" data-stat=\"to_lose\">1</td></tr>]\n"
     ]
    }
   ],
   "source": [
    "print(stats)"
   ]
  },
  {
   "cell_type": "code",
   "execution_count": null,
   "id": "8bf58f45",
   "metadata": {},
   "outputs": [],
   "source": []
  }
 ],
 "metadata": {
  "kernelspec": {
   "display_name": "Python 3 (ipykernel)",
   "language": "python",
   "name": "python3"
  },
  "language_info": {
   "codemirror_mode": {
    "name": "ipython",
    "version": 3
   },
   "file_extension": ".py",
   "mimetype": "text/x-python",
   "name": "python",
   "nbconvert_exporter": "python",
   "pygments_lexer": "ipython3",
   "version": "3.9.12"
  }
 },
 "nbformat": 4,
 "nbformat_minor": 5
}
