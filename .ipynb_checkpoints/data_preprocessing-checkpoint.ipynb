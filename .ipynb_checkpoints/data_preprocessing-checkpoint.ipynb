{
 "cells": [
  {
   "cell_type": "code",
   "execution_count": 1,
   "id": "869c77e9",
   "metadata": {},
   "outputs": [],
   "source": [
    "from bs4 import BeautifulSoup\n",
    "import numpy as np\n",
    "import pandas as pd\n",
    "import requests\n",
    "import time\n",
    "import random\n",
    "from vardata import years, team_abbr, columns, final_columns, teams_idx"
   ]
  },
  {
   "cell_type": "code",
   "execution_count": 3,
   "id": "dcf69fb3",
   "metadata": {
    "scrolled": true
   },
   "outputs": [],
   "source": [
    "final_data = pd.DataFrame(columns = final_columns)\n",
    "\n",
    "# read in uprocessed csvs for every year\n",
    "for year in years:\n",
    "    results = pd.read_csv('stats/games_'+ year + '.csv')\n",
    "    stats = pd.read_csv('stats/stats_'+ year + '.csv')\n",
    "    \n",
    "    # loop through every game\n",
    "    for index in results.index:\n",
    "        # get home and away team indicies\n",
    "        home_team = results['home_team'][index]\n",
    "        away_team = results['away_team'][index]\n",
    "        ht_idx = teams_idx[home_team]\n",
    "        at_idx = teams_idx[away_team]\n",
    "        temp = [home_team, away_team]\n",
    "        \n",
    "        # append average of home stats with respect to away team stats\n",
    "        for i in range(25):\n",
    "            temp.append(np.mean((stats.loc[ht_idx][2+i],stats.loc[at_idx][27+i])))\n",
    "        for i in range(25):\n",
    "            temp.append(np.mean((stats.loc[at_idx][2+i],stats.loc[ht_idx][27+i])))\n",
    "        for i in range(9):\n",
    "            temp.append(np.mean((stats.loc[ht_idx][52+i],stats.loc[at_idx][61+i])))\n",
    "        for i in range(9):\n",
    "            temp.append(np.mean((stats.loc[at_idx][52+i],stats.loc[ht_idx][61+i])))\n",
    "        \n",
    "        # append overall game stats\n",
    "        temp.append(results['ht_score'][index])\n",
    "        temp.append(results['at_score'][index])\n",
    "        temp.append(results['total_points'][index])\n",
    "        temp.append(results['ht_pts_diff'][index])\n",
    "        temp.append(results['ht_vegas_line'][index])\n",
    "        \n",
    "        #final_data = final_data.append(pd.DataFrame(temp).T)\n",
    "        final_data.loc[len(final_data)] = temp\n",
    "        \n",
    "final_data.to_csv('final_data.csv')"
   ]
  },
  {
   "cell_type": "code",
   "execution_count": null,
   "id": "9632a9b4",
   "metadata": {},
   "outputs": [],
   "source": []
  }
 ],
 "metadata": {
  "kernelspec": {
   "display_name": "Python 3 (ipykernel)",
   "language": "python",
   "name": "python3"
  },
  "language_info": {
   "codemirror_mode": {
    "name": "ipython",
    "version": 3
   },
   "file_extension": ".py",
   "mimetype": "text/x-python",
   "name": "python",
   "nbconvert_exporter": "python",
   "pygments_lexer": "ipython3",
   "version": "3.10.9"
  }
 },
 "nbformat": 4,
 "nbformat_minor": 5
}
