{
 "cells": [
  {
   "cell_type": "code",
   "execution_count": 6,
   "id": "24f267a9",
   "metadata": {},
   "outputs": [],
   "source": [
    "from bs4 import BeautifulSoup, Comment\n",
    "import numpy as np\n",
    "import pandas as pd\n",
    "import requests\n",
    "import cloudscraper\n",
    "import time\n",
    "import random\n",
    "import re\n",
    "from vardata import years, team_abbr, columns, teams\n",
    "\n",
    "url = 'https://www.pro-football-reference.com'\n",
    "\n",
    "# function to convert output a dataframe as a csv\n",
    "def df_to_csv(df, year):\n",
    "    exec(\"df.to_csv('games_\" + year + \".csv')\")"
   ]
  },
  {
   "cell_type": "code",
   "execution_count": 7,
   "id": "e9b7927a",
   "metadata": {
    "scrolled": true
   },
   "outputs": [],
   "source": [
    "def scrape_games(year):\n",
    "    \n",
    "    # use beautiful soup to return the html of the webpage\n",
    "    r = requests.get(url + '/years/'+ year + '/games.htm')\n",
    "    soup = BeautifulSoup(r.content, 'html.parser')\n",
    "    time.sleep(65)\n",
    "    \n",
    "    # grab the game results table from the webpage\n",
    "    game_stats = soup.find_all('table')[0]\n",
    "\n",
    "    # Collect table rows\n",
    "    stat_rows = game_stats.findAll('tr')\n",
    "    \n",
    "    # initalize \n",
    "    results = []\n",
    "    n = 0\n",
    "\n",
    "    for i in range(len(stat_rows)):\n",
    "        if n >= 20:\n",
    "            wait = random.randint(65, 300)\n",
    "            time.sleep(wait)\n",
    "            n = 0\n",
    "\n",
    "        row = []\n",
    "        row.extend([col.getText() for col in stat_rows[i].findAll('td')])\n",
    "\n",
    "        if not row:\n",
    "            continue\n",
    "        elif row[1] == 'Playoffs':\n",
    "            break\n",
    "\n",
    "        # navigate to the boxscore page and find the vegas line\n",
    "        #-------------------------------------------------------------------------\n",
    "        link = stat_rows[i].find(href=re.compile(\"boxscores\"))\n",
    "        href=link.get('href')\n",
    "        r1 = requests.get(url + href)\n",
    "        soup1 = BeautifulSoup(r1.content, 'html.parser')\n",
    "        for comment in soup1.find_all(text=lambda text: isinstance(text, Comment)):\n",
    "            if comment.find(\"game_info\") > 0:\n",
    "                comment_soup = BeautifulSoup(comment, 'html.parser')\n",
    "                vegas_line = comment_soup.find(\"th\", text=\"Vegas Line\").find_next('td').text\n",
    "                favorite = ' '.join(vegas_line.split()[:-1])\n",
    "                vegas_line = vegas_line.split()[-1]\n",
    "                if vegas_line == 'Pick':\n",
    "                    vegas_line = 0\n",
    "                else:\n",
    "                    vegas_line = float(vegas_line)\n",
    "        #-------------------------------------------------------------------------\n",
    "\n",
    "        if row[4] != '@':\n",
    "            home_team = teams[row[3]]\n",
    "            away_team = teams[row[5]]\n",
    "            ht_pts_diff = int(row[7]) - int(row[8])\n",
    "\n",
    "            if row[3] == favorite:\n",
    "                ht_vegas_line = vegas_line\n",
    "            else:\n",
    "                ht_vegas_line = abs(vegas_line)\n",
    "\n",
    "        else:\n",
    "            home_team = teams[row[5]]\n",
    "            away_team = teams[row[3]]\n",
    "            ht_pts_diff = int(row[8]) - int(row[7])\n",
    "\n",
    "            if row[3] == favorite:\n",
    "                ht_vegas_line = abs(vegas_line)\n",
    "            else:\n",
    "                ht_vegas_line = vegas_line\n",
    "\n",
    "        results.append([home_team, away_team, ht_pts_diff, ht_vegas_line])\n",
    "\n",
    "        n += 1\n",
    "            \n",
    "    return results"
   ]
  },
  {
   "cell_type": "code",
   "execution_count": 8,
   "id": "a8ad9ac1",
   "metadata": {},
   "outputs": [
    {
     "name": "stdout",
     "output_type": "stream",
     "text": [
      "2010\n"
     ]
    },
    {
     "ename": "ValueError",
     "evalue": "could not convert string to float: 'Pick'",
     "output_type": "error",
     "traceback": [
      "\u001b[0;31m---------------------------------------------------------------------------\u001b[0m",
      "\u001b[0;31mValueError\u001b[0m                                Traceback (most recent call last)",
      "Input \u001b[0;32mIn [8]\u001b[0m, in \u001b[0;36m<cell line: 1>\u001b[0;34m()\u001b[0m\n\u001b[1;32m      1\u001b[0m \u001b[38;5;28;01mfor\u001b[39;00m year \u001b[38;5;129;01min\u001b[39;00m years:\n\u001b[1;32m      2\u001b[0m     \u001b[38;5;28mprint\u001b[39m(year)\n\u001b[0;32m----> 3\u001b[0m     results \u001b[38;5;241m=\u001b[39m \u001b[43mscrape_games\u001b[49m\u001b[43m(\u001b[49m\u001b[43myear\u001b[49m\u001b[43m)\u001b[49m\n\u001b[1;32m      4\u001b[0m     exec(\u001b[38;5;124m'\u001b[39m\u001b[38;5;124mgames_\u001b[39m\u001b[38;5;124m'\u001b[39m \u001b[38;5;241m+\u001b[39m year \u001b[38;5;241m+\u001b[39m \u001b[38;5;124m\"\u001b[39m\u001b[38;5;124m= pd.DataFrame(results, columns = [\u001b[39m\u001b[38;5;124m'\u001b[39m\u001b[38;5;124mhome_team\u001b[39m\u001b[38;5;124m'\u001b[39m\u001b[38;5;124m, \u001b[39m\u001b[38;5;124m'\u001b[39m\u001b[38;5;124maway_team\u001b[39m\u001b[38;5;124m'\u001b[39m\u001b[38;5;124m, \u001b[39m\u001b[38;5;124m'\u001b[39m\u001b[38;5;124mht_pts_diff\u001b[39m\u001b[38;5;124m'\u001b[39m\u001b[38;5;124m, \u001b[39m\u001b[38;5;124m'\u001b[39m\u001b[38;5;124mht_vegas_line\u001b[39m\u001b[38;5;124m'\u001b[39m\u001b[38;5;124m])\u001b[39m\u001b[38;5;124m\"\u001b[39m)\n\u001b[1;32m      5\u001b[0m     \u001b[38;5;66;03m# gs_2022 = pd.DataFrame(results_final, columns = ['home_team', 'away_team', 'ht_pts_diff', 'ht_vegas_line'])\u001b[39;00m\n",
      "Input \u001b[0;32mIn [7]\u001b[0m, in \u001b[0;36mscrape_games\u001b[0;34m(year)\u001b[0m\n\u001b[1;32m     41\u001b[0m         vegas_line \u001b[38;5;241m=\u001b[39m comment_soup\u001b[38;5;241m.\u001b[39mfind(\u001b[38;5;124m\"\u001b[39m\u001b[38;5;124mth\u001b[39m\u001b[38;5;124m\"\u001b[39m, text\u001b[38;5;241m=\u001b[39m\u001b[38;5;124m\"\u001b[39m\u001b[38;5;124mVegas Line\u001b[39m\u001b[38;5;124m\"\u001b[39m)\u001b[38;5;241m.\u001b[39mfind_next(\u001b[38;5;124m'\u001b[39m\u001b[38;5;124mtd\u001b[39m\u001b[38;5;124m'\u001b[39m)\u001b[38;5;241m.\u001b[39mtext\n\u001b[1;32m     42\u001b[0m         favorite \u001b[38;5;241m=\u001b[39m \u001b[38;5;124m'\u001b[39m\u001b[38;5;124m \u001b[39m\u001b[38;5;124m'\u001b[39m\u001b[38;5;241m.\u001b[39mjoin(vegas_line\u001b[38;5;241m.\u001b[39msplit()[:\u001b[38;5;241m-\u001b[39m\u001b[38;5;241m1\u001b[39m])\n\u001b[0;32m---> 43\u001b[0m         vegas_line \u001b[38;5;241m=\u001b[39m \u001b[38;5;28;43mfloat\u001b[39;49m\u001b[43m(\u001b[49m\u001b[43mvegas_line\u001b[49m\u001b[38;5;241;43m.\u001b[39;49m\u001b[43msplit\u001b[49m\u001b[43m(\u001b[49m\u001b[43m)\u001b[49m\u001b[43m[\u001b[49m\u001b[38;5;241;43m-\u001b[39;49m\u001b[38;5;241;43m1\u001b[39;49m\u001b[43m]\u001b[49m\u001b[43m)\u001b[49m\n\u001b[1;32m     44\u001b[0m \u001b[38;5;66;03m#-------------------------------------------------------------------------\u001b[39;00m\n\u001b[1;32m     46\u001b[0m \u001b[38;5;28;01mif\u001b[39;00m row[\u001b[38;5;241m4\u001b[39m] \u001b[38;5;241m!=\u001b[39m \u001b[38;5;124m'\u001b[39m\u001b[38;5;124m@\u001b[39m\u001b[38;5;124m'\u001b[39m:\n",
      "\u001b[0;31mValueError\u001b[0m: could not convert string to float: 'Pick'"
     ]
    }
   ],
   "source": [
    "for year in years:\n",
    "    print(year)\n",
    "    results = scrape_games(year)\n",
    "    exec('games_' + year + \"= pd.DataFrame(results, columns = ['home_team', 'away_team', 'ht_pts_diff', 'ht_vegas_line'])\")\n",
    "    # gs_2022 = pd.DataFrame(results_final, columns = ['home_team', 'away_team', 'ht_pts_diff', 'ht_vegas_line'])\n",
    "    exec('df_to_csv(games_'+ year + ', year)')"
   ]
  },
  {
   "cell_type": "code",
   "execution_count": 22,
   "id": "581cdd7a",
   "metadata": {},
   "outputs": [],
   "source": [
    "vegas_line = 'San Francisco 49ers -6.0'\n",
    "\n",
    "favorite = ' '.join(vegas_line.split()[:-1])\n",
    "vegas_line = float(vegas_line.split()[-1])"
   ]
  },
  {
   "cell_type": "code",
   "execution_count": 23,
   "id": "1b1f8ca4",
   "metadata": {},
   "outputs": [
    {
     "name": "stdout",
     "output_type": "stream",
     "text": [
      "San Francisco 49ers\n",
      "-6.0\n"
     ]
    }
   ],
   "source": [
    "print(favorite)\n",
    "print(vegas_line)"
   ]
  },
  {
   "cell_type": "code",
   "execution_count": null,
   "id": "21c75b91",
   "metadata": {},
   "outputs": [],
   "source": []
  }
 ],
 "metadata": {
  "kernelspec": {
   "display_name": "Python 3 (ipykernel)",
   "language": "python",
   "name": "python3"
  },
  "language_info": {
   "codemirror_mode": {
    "name": "ipython",
    "version": 3
   },
   "file_extension": ".py",
   "mimetype": "text/x-python",
   "name": "python",
   "nbconvert_exporter": "python",
   "pygments_lexer": "ipython3",
   "version": "3.9.12"
  }
 },
 "nbformat": 4,
 "nbformat_minor": 5
}
