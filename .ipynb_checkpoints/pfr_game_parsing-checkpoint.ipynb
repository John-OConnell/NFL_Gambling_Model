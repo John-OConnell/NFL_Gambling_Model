{
 "cells": [
  {
   "cell_type": "code",
   "execution_count": 2,
   "id": "24f267a9",
   "metadata": {},
   "outputs": [],
   "source": [
    "from bs4 import BeautifulSoup, Comment\n",
    "import numpy as np\n",
    "import pandas as pd\n",
    "import requests\n",
    "import time\n",
    "import random\n",
    "import re\n",
    "from vardata import years, team_abbr, columns, teams\n",
    "\n",
    "url = 'https://www.pro-football-reference.com'\n",
    "\n",
    "# function to convert output a dataframe as a csv\n",
    "def df_to_csv(df, year):\n",
    "    exec(\"df.to_csv('games_\" + year + \".csv')\")"
   ]
  },
  {
   "cell_type": "code",
   "execution_count": 5,
   "id": "e9b7927a",
   "metadata": {
    "scrolled": true
   },
   "outputs": [],
   "source": [
    "def scrape_games(year):\n",
    "    \n",
    "    # use beautiful soup to return the html of the webpage\n",
    "    time.sleep(65) # pauses are necessary to avoid overloading webpage with requests\n",
    "    r = requests.get(url + '/years/'+ year + '/games.htm')\n",
    "    soup = BeautifulSoup(r.content, 'html.parser')\n",
    "    time.sleep(65)\n",
    "    \n",
    "    # grab the game results table from the webpage\n",
    "    game_stats = soup.find_all('table')[0]\n",
    "\n",
    "    # collect table rows\n",
    "    stat_rows = game_stats.findAll('tr')\n",
    "    \n",
    "    # initalize \n",
    "    results = []\n",
    "    n = 0\n",
    "    \n",
    "    # looping through the table rows to collect data\n",
    "    for i in range(len(stat_rows)):\n",
    "        if n >= 19:\n",
    "            wait = random.randint(65, 120)\n",
    "            time.sleep(wait)\n",
    "            n = 0\n",
    "\n",
    "        row = []\n",
    "        row.extend([col.getText() for col in stat_rows[i].findAll('td')])\n",
    "\n",
    "        if not row:\n",
    "            continue\n",
    "        elif row[1] == 'Playoffs':\n",
    "            break\n",
    "\n",
    "        # navigate to the boxscore page and find the vegas line\n",
    "        #-------------------------------------------------------------------------\n",
    "        # get box score url\n",
    "        link = stat_rows[i].find(href=re.compile(\"boxscores\"))\n",
    "        href=link.get('href')\n",
    "        \n",
    "        # use beautiful soup to return the html of the webpage\n",
    "        r1 = requests.get(url + href)\n",
    "        soup1 = BeautifulSoup(r1.content, 'html.parser')\n",
    "        \n",
    "        # data needed is commented out in html code, loop through comments of code\n",
    "        for comment in soup1.find_all(text=lambda text: isinstance(text, Comment)):\n",
    "            # find comment regarding game info and store vegas line\n",
    "            if comment.find(\"game_info\") > 0:\n",
    "                comment_soup = BeautifulSoup(comment, 'html.parser')\n",
    "                vegas_line = comment_soup.find(\"th\", text=\"Vegas Line\").find_next('td').text\n",
    "                favorite = ' '.join(vegas_line.split()[:-1])\n",
    "                vegas_line = vegas_line.split()[-1]\n",
    "                if vegas_line == 'Pick':\n",
    "                    vegas_line = 0\n",
    "                else:\n",
    "                    vegas_line = float(vegas_line)\n",
    "        #-------------------------------------------------------------------------\n",
    "        \n",
    "        # handling home / away team info being in different locations for each row\n",
    "        if row[4] != '@':\n",
    "            home_team = teams[row[3]]\n",
    "            away_team = teams[row[5]]\n",
    "            ht_score = int(row[7])\n",
    "            at_score = int(row[8])\n",
    "            total_points = ht_score + at_score\n",
    "            ht_pts_diff = ht_score - at_score\n",
    "\n",
    "            if row[3] == favorite:\n",
    "                ht_vegas_line = vegas_line\n",
    "            else:\n",
    "                ht_vegas_line = abs(vegas_line)\n",
    "        else:\n",
    "            home_team = teams[row[5]]\n",
    "            away_team = teams[row[3]]\n",
    "            ht_score = int(row[8])\n",
    "            at_score = int(row[7])\n",
    "            total_points = ht_score + at_score\n",
    "            ht_pts_diff = ht_score - at_score\n",
    "\n",
    "            if row[3] == favorite:\n",
    "                ht_vegas_line = abs(vegas_line)\n",
    "            else:\n",
    "                ht_vegas_line = vegas_line\n",
    "\n",
    "        # appending necessary info to results array\n",
    "        results.append([home_team, away_team, ht_score, at_score, total_points,\n",
    "                        ht_pts_diff, ht_vegas_line])\n",
    "\n",
    "        n += 1\n",
    "            \n",
    "    return results"
   ]
  },
  {
   "cell_type": "code",
   "execution_count": 6,
   "id": "244479c5",
   "metadata": {
    "scrolled": false
   },
   "outputs": [
    {
     "name": "stdout",
     "output_type": "stream",
     "text": [
      "2018\n"
     ]
    }
   ],
   "source": [
    "for year in years:\n",
    "    print(year)\n",
    "    results = scrape_games(year)\n",
    "    exec('games_' + year + '''= pd.DataFrame(results, columns = ['home_team', 'away_team', 'ht_score',\n",
    "            'at_score', 'total_points', 'ht_pts_diff', 'ht_vegas_line'])''')\n",
    "    # gs_2022 = pd.DataFrame(results_final, columns = ['home_team', 'away_team', 'ht_pts_diff', 'ht_vegas_line'])\n",
    "    exec('df_to_csv(games_'+ year + ', year)')"
   ]
  },
  {
   "cell_type": "code",
   "execution_count": null,
   "id": "571a59cf",
   "metadata": {},
   "outputs": [],
   "source": [
    "r = requests.get(url + '/years/'+ year + '/games.htm')\n",
    "soup = BeautifulSoup(r.content, 'html.parser')\n",
    "print(soup)"
   ]
  }
 ],
 "metadata": {
  "kernelspec": {
   "display_name": "Python 3 (ipykernel)",
   "language": "python",
   "name": "python3"
  },
  "language_info": {
   "codemirror_mode": {
    "name": "ipython",
    "version": 3
   },
   "file_extension": ".py",
   "mimetype": "text/x-python",
   "name": "python",
   "nbconvert_exporter": "python",
   "pygments_lexer": "ipython3",
   "version": "3.10.9"
  }
 },
 "nbformat": 4,
 "nbformat_minor": 5
}
