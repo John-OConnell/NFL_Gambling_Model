{
 "cells": [
  {
   "cell_type": "code",
   "execution_count": 3,
   "id": "e06db600",
   "metadata": {},
   "outputs": [
    {
     "ename": "IndexError",
     "evalue": "list index out of range",
     "output_type": "error",
     "traceback": [
      "\u001b[0;31m---------------------------------------------------------------------------\u001b[0m",
      "\u001b[0;31mIndexError\u001b[0m                                Traceback (most recent call last)",
      "Input \u001b[0;32mIn [3]\u001b[0m, in \u001b[0;36m<cell line: 12>\u001b[0;34m()\u001b[0m\n\u001b[1;32m     10\u001b[0m soup \u001b[38;5;241m=\u001b[39m BeautifulSoup(r\u001b[38;5;241m.\u001b[39mcontent, \u001b[38;5;124m'\u001b[39m\u001b[38;5;124mhtml.parser\u001b[39m\u001b[38;5;124m'\u001b[39m)\n\u001b[1;32m     11\u001b[0m \u001b[38;5;66;03m# grab the team stats table from the webpage\u001b[39;00m\n\u001b[0;32m---> 12\u001b[0m team_stats \u001b[38;5;241m=\u001b[39m \u001b[43msoup\u001b[49m\u001b[38;5;241;43m.\u001b[39;49m\u001b[43mfind_all\u001b[49m\u001b[43m(\u001b[49m\u001b[38;5;124;43m'\u001b[39;49m\u001b[38;5;124;43mtable\u001b[39;49m\u001b[38;5;124;43m'\u001b[39;49m\u001b[43m)\u001b[49m\u001b[43m[\u001b[49m\u001b[38;5;241;43m0\u001b[39;49m\u001b[43m]\u001b[49m\n\u001b[1;32m     13\u001b[0m \u001b[38;5;66;03m# grab the team conversions table from the webpage\u001b[39;00m\n\u001b[1;32m     14\u001b[0m team_conv \u001b[38;5;241m=\u001b[39m soup\u001b[38;5;241m.\u001b[39mfind_all(\u001b[38;5;124m'\u001b[39m\u001b[38;5;124mtable\u001b[39m\u001b[38;5;124m'\u001b[39m)[\u001b[38;5;241m2\u001b[39m]\n",
      "\u001b[0;31mIndexError\u001b[0m: list index out of range"
     ]
    }
   ],
   "source": [
    "from bs4 import BeautifulSoup\n",
    "import numpy as np\n",
    "import pandas as pd\n",
    "import requests\n",
    "\n",
    "url = 'https://www.pro-football-reference.com'\n",
    "\n",
    "r = requests.get(url + '/teams/nwe/2022.htm')\n",
    "# use beautiful soup to return the html of the webpage\n",
    "soup = BeautifulSoup(r.content, 'html.parser')\n",
    "# grab the team stats table from the webpage\n",
    "team_stats = soup.find_all('table')[0]\n",
    "# grab the team conversions table from the webpage\n",
    "team_conv = soup.find_all('table')[2]\n",
    "#print(team_conv)"
   ]
  },
  {
   "cell_type": "code",
   "execution_count": 2,
   "id": "35dcfda8",
   "metadata": {
    "scrolled": true
   },
   "outputs": [
    {
     "ename": "NameError",
     "evalue": "name 'team_stats' is not defined",
     "output_type": "error",
     "traceback": [
      "\u001b[0;31m---------------------------------------------------------------------------\u001b[0m",
      "\u001b[0;31mNameError\u001b[0m                                 Traceback (most recent call last)",
      "Input \u001b[0;32mIn [2]\u001b[0m, in \u001b[0;36m<cell line: 3>\u001b[0;34m()\u001b[0m\n\u001b[1;32m      1\u001b[0m \u001b[38;5;66;03m# transform team_stats table into nested array of data\u001b[39;00m\n\u001b[1;32m      2\u001b[0m \u001b[38;5;66;03m# collect column headers\u001b[39;00m\n\u001b[0;32m----> 3\u001b[0m column_headers \u001b[38;5;241m=\u001b[39m \u001b[43mteam_stats\u001b[49m\u001b[38;5;241m.\u001b[39mfindAll(\u001b[38;5;124m'\u001b[39m\u001b[38;5;124mtr\u001b[39m\u001b[38;5;124m'\u001b[39m)[\u001b[38;5;241m1\u001b[39m]\n\u001b[1;32m      4\u001b[0m column_headers \u001b[38;5;241m=\u001b[39m [i\u001b[38;5;241m.\u001b[39mgetText() \u001b[38;5;28;01mfor\u001b[39;00m i \u001b[38;5;129;01min\u001b[39;00m column_headers\u001b[38;5;241m.\u001b[39mfindAll(\u001b[38;5;124m'\u001b[39m\u001b[38;5;124mth\u001b[39m\u001b[38;5;124m'\u001b[39m)[\u001b[38;5;241m1\u001b[39m:\u001b[38;5;241m26\u001b[39m]]\n\u001b[1;32m      6\u001b[0m \u001b[38;5;66;03m# Collect table rows\u001b[39;00m\n",
      "\u001b[0;31mNameError\u001b[0m: name 'team_stats' is not defined"
     ]
    }
   ],
   "source": [
    "# transform team_stats table into nested array of data\n",
    "# collect column headers\n",
    "column_headers = team_stats.findAll('tr')[1]\n",
    "column_headers = [i.getText() for i in column_headers.findAll('th')[1:26]]\n",
    "\n",
    "# Collect table rows\n",
    "rows = team_stats.findAll('tr')[2:4]\n",
    "# Get stats from each row\n",
    "stats = []\n",
    "for i in range(len(rows)):\n",
    "    stats.append([float(col.getText()) for col in rows[i].findAll('td')[:25]])\n",
    "\n",
    "labeled_stats = [column_headers] + stats\n",
    "\n",
    "print(labeled_stats)"
   ]
  },
  {
   "cell_type": "code",
   "execution_count": 25,
   "id": "c048a31b",
   "metadata": {},
   "outputs": [
    {
     "name": "stdout",
     "output_type": "stream",
     "text": [
      "[['PF', 'Yds', 'Ply', 'Y/P', 'TO', 'FL', '1stD', 'Cmp', 'Att', 'Yds', 'TD', 'Int', 'NY/A', '1stD', 'Att', 'Yds', 'TD', 'Y/A', '1stD', 'Pen', 'Yds', '1stPy', '#Dr', 'Sc%', 'TO%', '3DAtt', '3DConv', '3D%', '4DAtt', '4DConv', '4D%', 'RZAtt', 'RZTD', 'RZPct'], [364.0, 5348.0, 1006.0, 5.3, 23.0, 9.0, 288.0, 358.0, 540.0, 3536.0, 19.0, 14.0, 6.1, 166.0, 425.0, 1812.0, 12.0, 4.3, 98.0, 104.0, 841.0, 24.0, 192.0, 32.8, 12.0, 215.0, 75.0, 34.9, 13.0, 5.0, 38.5, 45.0, 19.0, 42.2], [347.0, 5474.0, 1091.0, 5.0, 30.0, 11.0, 314.0, 364.0, 596.0, 3681.0, 28.0, 19.0, 5.7, 194.0, 441.0, 1793.0, 7.0, 4.1, 90.0, 89.0, 699.0, 30.0, 190.0, 30.5, 14.2, 241.0, 97.0, 40.2, 27.0, 10.0, 37.0, 50.0, 29.0, 58.0]]\n"
     ]
    }
   ],
   "source": [
    "# transform team_conv table into nested array of data\n",
    "# collect column headers\n",
    "column_headers = team_conv.findAll('tr')[1]\n",
    "column_headers = [i.getText() for i in column_headers.findAll('th')[1:]]\n",
    "\n",
    "# Collect table rows\n",
    "rows = team_conv.findAll('tr')[2:4]\n",
    "# Get stats from each row\n",
    "stats = []\n",
    "for i in range(len(rows)):\n",
    "    stats.append([float(col.getText()) for col in rows[i].findAll('td')])\n",
    "\n",
    "# add team_conv stats to labeled_stats\n",
    "labeled_stats[0] += column_headers\n",
    "labeled_stats[1] += stats[0]\n",
    "labeled_stats[2] += stats[1]\n",
    "print(labeled_stats)"
   ]
  },
  {
   "cell_type": "code",
   "execution_count": 26,
   "id": "5b9dde97",
   "metadata": {
    "scrolled": true
   },
   "outputs": [
    {
     "name": "stdout",
     "output_type": "stream",
     "text": [
      "PF\tYds\tPly\tY/P\tTO\tFL\t1stD\tCmp\tAtt\tYds\tTD\tInt\tNY/A\t1stD\tAtt\tYds\tTD\tY/A\t1stD\tPen\tYds\t1stPy\t#Dr\tSc%\tTO%\t3DAtt\t3DConv\t3D%\t4DAtt\t4DConv\t4D%\tRZAtt\tRZTD\tRZPct\t\n",
      "364.0\t5348.0\t1006.0\t5.3\t23.0\t9.0\t288.0\t358.0\t540.0\t3536.0\t19.0\t14.0\t6.1\t166.0\t425.0\t1812.0\t12.0\t4.3\t98.0\t104.0\t841.0\t24.0\t192.0\t32.8\t12.0\t215.0\t75.0\t34.9\t13.0\t5.0\t38.5\t45.0\t19.0\t42.2\t\n",
      "347.0\t5474.0\t1091.0\t5.0\t30.0\t11.0\t314.0\t364.0\t596.0\t3681.0\t28.0\t19.0\t5.7\t194.0\t441.0\t1793.0\t7.0\t4.1\t90.0\t89.0\t699.0\t30.0\t190.0\t30.5\t14.2\t241.0\t97.0\t40.2\t27.0\t10.0\t37.0\t50.0\t29.0\t58.0\t\n"
     ]
    }
   ],
   "source": [
    "for row in labeled_stats:\n",
    "    for stat in row:\n",
    "        print(stat, end = \"\\t\")\n",
    "    print(\"\")"
   ]
  }
 ],
 "metadata": {
  "kernelspec": {
   "display_name": "Python 3 (ipykernel)",
   "language": "python",
   "name": "python3"
  },
  "language_info": {
   "codemirror_mode": {
    "name": "ipython",
    "version": 3
   },
   "file_extension": ".py",
   "mimetype": "text/x-python",
   "name": "python",
   "nbconvert_exporter": "python",
   "pygments_lexer": "ipython3",
   "version": "3.9.12"
  }
 },
 "nbformat": 4,
 "nbformat_minor": 5
}
