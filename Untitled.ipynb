{
 "cells": [
  {
   "cell_type": "code",
   "execution_count": 2,
   "id": "e93330b5",
   "metadata": {},
   "outputs": [],
   "source": [
    "from bs4 import BeautifulSoup\n",
    "import numpy as np\n",
    "import pandas as pd\n",
    "import requests\n",
    "import cloudscraper\n",
    "import time\n",
    "import random\n",
    "from vardata import years, team_abbr, columns\n",
    "\n",
    "url = 'https://www.pro-football-reference.com'"
   ]
  },
  {
   "cell_type": "code",
   "execution_count": 12,
   "id": "3511978c",
   "metadata": {},
   "outputs": [],
   "source": [
    "r = requests.get(url + '/years/2022/games.htm')\n",
    "\n",
    "soup = BeautifulSoup(r.content, 'html.parser')\n",
    "# grab the team stats table from the webpage\n",
    "team_stats = soup.find_all('table')[0]\n",
    "# grab the team conversions table from the webpage\n",
    "#team_conv = soup.find_all('table')[2]\n",
    "\n",
    "# Collect table rows\n",
    "stat_rows = team_stats.findAll('tr')[1:5]\n",
    "\n",
    "stats = []\n",
    "for i in range(len(stat_rows)):\n",
    "    stats.append([col.getText() for col in stat_rows[i].findAll('td')])\n"
   ]
  },
  {
   "cell_type": "code",
   "execution_count": 13,
   "id": "1631089a",
   "metadata": {},
   "outputs": [
    {
     "name": "stdout",
     "output_type": "stream",
     "text": [
      "[['Thu', '2022-09-08', '8:20PM', 'Buffalo Bills', '@', 'Los Angeles Rams', 'boxscore', '31', '10', '413', '4', '243', '3'], ['Sun', '2022-09-11', '1:00PM', 'New Orleans Saints', '@', 'Atlanta Falcons', 'boxscore', '27', '26', '385', '1', '416', '2'], ['Sun', '2022-09-11', '1:00PM', 'Cleveland Browns', '@', 'Carolina Panthers', 'boxscore', '26', '24', '355', '0', '261', '1'], ['Sun', '2022-09-11', '1:00PM', 'Chicago Bears', '', 'San Francisco 49ers', 'boxscore', '19', '10', '204', '1', '331', '2']]\n"
     ]
    }
   ],
   "source": [
    "print(stats)"
   ]
  },
  {
   "cell_type": "code",
   "execution_count": null,
   "id": "c1ebb853",
   "metadata": {},
   "outputs": [],
   "source": []
  }
 ],
 "metadata": {
  "kernelspec": {
   "display_name": "Python 3 (ipykernel)",
   "language": "python",
   "name": "python3"
  },
  "language_info": {
   "codemirror_mode": {
    "name": "ipython",
    "version": 3
   },
   "file_extension": ".py",
   "mimetype": "text/x-python",
   "name": "python",
   "nbconvert_exporter": "python",
   "pygments_lexer": "ipython3",
   "version": "3.9.12"
  }
 },
 "nbformat": 4,
 "nbformat_minor": 5
}
